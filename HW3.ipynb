{
  "nbformat": 4,
  "nbformat_minor": 0,
  "metadata": {
    "colab": {
      "name": "HW3.ipynb",
      "provenance": [],
      "collapsed_sections": [],
      "include_colab_link": true
    },
    "kernelspec": {
      "name": "python3",
      "display_name": "Python 3"
    }
  },
  "cells": [
    {
      "cell_type": "markdown",
      "metadata": {
        "id": "view-in-github",
        "colab_type": "text"
      },
      "source": [
        "<a href=\"https://colab.research.google.com/github/sharvil10/COT5600_quantum_computing/blob/master/HW3.ipynb\" target=\"_parent\"><img src=\"https://colab.research.google.com/assets/colab-badge.svg\" alt=\"Open In Colab\"/></a>"
      ]
    },
    {
      "cell_type": "markdown",
      "metadata": {
        "id": "wf2A1lXe6JFT",
        "colab_type": "text"
      },
      "source": [
        "## HW 3"
      ]
    },
    {
      "cell_type": "markdown",
      "metadata": {
        "id": "hqRx6Utk6O2i",
        "colab_type": "text"
      },
      "source": [
        "### Problem 1 "
      ]
    },
    {
      "cell_type": "code",
      "metadata": {
        "id": "Ysk6Jh_nzDNT",
        "colab_type": "code",
        "colab": {}
      },
      "source": [
        "#Import all depndencies\n",
        "import numpy as np\n",
        "from numpy import linalg as LA"
      ],
      "execution_count": 0,
      "outputs": []
    },
    {
      "cell_type": "markdown",
      "metadata": {
        "id": "86pEeMyJZTaB",
        "colab_type": "text"
      },
      "source": [
        "**Fourier matrix**"
      ]
    },
    {
      "cell_type": "markdown",
      "metadata": {
        "id": "-CJ51pId-O-s",
        "colab_type": "text"
      },
      "source": [
        "Let $\\omega=\\mathrm{exp}(2\\pi i/N)$ be the $N$th root of unity.  The Fourier matrix of size $N$ is the matrix $F_N=(q_{k,\\ell})\\in\\mathbb{C}^{N\\times N}$ whose entries are given by\n",
        "$$q_{k,\\ell}=\\frac{1}{\\sqrt{N}} \\omega^{k \\cdot \\ell}$$ for $k, \\ell \\in \\{0,\\ldots,N-1\\}$."
      ]
    },
    {
      "cell_type": "markdown",
      "metadata": {
        "id": "GvWI1jUeAY_6",
        "colab_type": "text"
      },
      "source": [
        "Using numpy, implement the function ```get_fourier_matrix``` that creates the Fourier matrix of size $N$.\n",
        "\n",
        "Compute the eigenvalues of eigenvectors of the Fourier matrix.  \n",
        "\n",
        "To check that your code is correct, you should verify the following properties:\n",
        "\n",
        "- the Fourier matrix is unitary \n",
        "- the fourth power of $F_N^4$ is equal to the identity matrix\n",
        "- its eigenvalues are $1, i, -1, -i$ (the multiplicities of these eigenvalues are given on the wikipedia page [discrete fourier transform](https://en.wikipedia.org/wiki/Discrete_Fourier_transform) in section *eigenvalues and eigenvectors*)"
      ]
    },
    {
      "cell_type": "code",
      "metadata": {
        "id": "meQ_Cmx_y_kP",
        "colab_type": "code",
        "colab": {}
      },
      "source": [
        "def get_fourier_matrix(N):\n",
        "  omega = np.exp(2*np.pi*1j / N) \n",
        "  grid = np.meshgrid(range(N), range(N), indexing = 'ij')#Creating k,l for each position in matrix\n",
        "  i, j = grid[0], grid[1]\n",
        "  mat = omega ** (i * j)#omega^(k,l) vectorized!\n",
        "  mat /= np.sqrt(N)\n",
        "  return mat\n",
        "\n",
        "def test_unitary(mat):\n",
        "  N = mat.shape[0]\n",
        "  norm = np.conj(mat).T @ mat\n",
        "  return np.allclose(np.eye(N), norm) #Checking if the M.H * M is identity\n",
        "\n",
        "def test_nth_power(mat, power = 4):\n",
        "  N = mat.shape[0]\n",
        "  return np.allclose(np.eye(N), LA.matrix_power(mat, power)) #Matrix's 4th power\n",
        "\n",
        "def test_eigen(mat):\n",
        "  w, v = LA.eig(mat)\n",
        "  for w_i in w:\n",
        "    if not np.any(np.isclose(w_i, [-1, 1, 1j, -1j])):#Checking if eigenvalue belongs to 1, -1, 1j or -1j\n",
        "      return False\n",
        "  return True\n",
        "\n",
        "\n",
        "def test_fourier_mat(mat):\n",
        "  assert test_unitary(mat), \"Matrix {} is not unitary\".format(mat)\n",
        "  assert test_nth_power(mat), \"F^4 is not identity for F: {}\".format(mat)\n",
        "  assert test_eigen(mat), \"Eigen values have some values other than 1, -1, 1j, -1j.\"\n",
        "  print(\"All tests passed!\")"
      ],
      "execution_count": 0,
      "outputs": []
    },
    {
      "cell_type": "code",
      "metadata": {
        "id": "kcUVfnOX5853",
        "colab_type": "code",
        "outputId": "60800928-7314-4318-c2c5-4ec87d25fc72",
        "colab": {
          "base_uri": "https://localhost:8080/",
          "height": 34
        }
      },
      "source": [
        "N = 8\n",
        "F_mat = get_fourier_matrix(N)\n",
        "test_fourier_mat(F_mat)"
      ],
      "execution_count": 0,
      "outputs": [
        {
          "output_type": "stream",
          "text": [
            "All test passed!\n"
          ],
          "name": "stdout"
        }
      ]
    },
    {
      "cell_type": "markdown",
      "metadata": {
        "id": "8p8OpYseZmse",
        "colab_type": "text"
      },
      "source": [
        "**Cyclic shift matrix**"
      ]
    },
    {
      "cell_type": "markdown",
      "metadata": {
        "id": "EdU_Ai9JZ4tu",
        "colab_type": "text"
      },
      "source": [
        "The cyclic shift matrix is the matrix $P_N=(p_{k,\\ell}\\in\\mathbb{C}^{N\\times N}$ whose entries are given by\n",
        "\n",
        "$$ p_{k,\\ell} = 1 \\mbox{ if } \\ell = k + 1 \\pmod{N} $$\n",
        "\n",
        "$$ p_{k,\\ell} = 0 \\mbox{ if } \\ell \\neq k + 1 \\pmod{N} $$"
      ]
    },
    {
      "cell_type": "markdown",
      "metadata": {
        "id": "Pj_wzC70avuv",
        "colab_type": "text"
      },
      "source": [
        "Using numpy, implement the function ```get_cyclic_shift_matrix``` that create the cyclic shift matrix of size $N$.\n",
        "\n",
        "Compute the eigenvalues of $P_N$.\n",
        "\n",
        "To show that your code is correct, you should verify the following properties:\n",
        "\n",
        "- the cyclic shift matrix is unitary\n",
        "- the $N$th power of the cyclic shift matrix is the identity matrix\n",
        "- the eigenvalues of the cyclic shift matrix are $N$th roots of unity\n",
        "- the cyclic shift matrix is diagonalized by the Fourier matrix, that is, $F_N^\\dagger P_N F_N$ is diagonal."
      ]
    },
    {
      "cell_type": "code",
      "metadata": {
        "id": "TAfumnxd78Ik",
        "colab_type": "code",
        "colab": {}
      },
      "source": [
        "def get_cyclic_matrix(N):\n",
        "  mat = np.zeros((N, N))\n",
        "  idx = (np.arange(N) + 1) % N\n",
        "  mat[np.arange(N), idx] = 1\n",
        "  return mat\n",
        "\n",
        "def test_diag(mat):\n",
        "  N = mat.shape[0]\n",
        "  F = get_fourier_matrix(N)\n",
        "  mat = np.conj(F).T @ mat @ F\n",
        "  return np.allclose(mat, np.diag(np.diag(mat)))\n",
        "\n",
        "def test_cyclic_mat(mat):\n",
        "  N=mat.shape[0]\n",
        "  assert test_unitary(mat), \"Matrix {} is not unitary\".format(mat)\n",
        "  assert test_nth_power(mat, N), \"F^N is not identity for F: {}\".format(mat)\n",
        "  assert test_diag(mat), \"Diagonalization failed\"\n",
        "  print(\"All tests passed!\")"
      ],
      "execution_count": 0,
      "outputs": []
    },
    {
      "cell_type": "code",
      "metadata": {
        "id": "_Ws3wM6xEjTI",
        "colab_type": "code",
        "outputId": "cf4bfc62-e4b0-4143-a8ce-3f9f83e4d9d6",
        "colab": {
          "base_uri": "https://localhost:8080/",
          "height": 34
        }
      },
      "source": [
        "cycl_mat = get_cyclic_matrix(N)\n",
        "test_cyclic_mat(cycl_mat)"
      ],
      "execution_count": 0,
      "outputs": [
        {
          "output_type": "stream",
          "text": [
            "All test passed!\n"
          ],
          "name": "stdout"
        }
      ]
    },
    {
      "cell_type": "markdown",
      "metadata": {
        "id": "nuAnEb1xCVfs",
        "colab_type": "text"
      },
      "source": [
        "### Problem 2"
      ]
    },
    {
      "cell_type": "markdown",
      "metadata": {
        "id": "H3bqptmVDKCQ",
        "colab_type": "text"
      },
      "source": [
        "Using Qiskit IBM Q Experience, implement the quantum phase estimation circuit with 3-bit precision.  \n",
        "\n",
        "This quantum circuit is explained on pages 110-113 (Inverse Fourier transform for 3 qubits) of the lecture slides.\n",
        "\n",
        "Write a function that create the state\n",
        "\n",
        "$$ \n",
        "\\frac{1}{\\sqrt{2}} ( |0\\rangle + e^{2\\pi i 2^2 \\varphi} |1\\rangle ) \\otimes \n",
        "\\frac{1}{\\sqrt{2}} ( |0\\rangle + e^{2\\pi i 2^1 \\varphi} |1\\rangle ) \\otimes \n",
        "\\frac{1}{\\sqrt{2}} ( |0\\rangle + e^{2\\pi i 2^0 \\varphi} |1\\rangle ) \n",
        "$$\n",
        "\n",
        "for arbitrary $\\varphi\\in [0,1)$. \n",
        "\n",
        "(This is the state that we would obtain by \n",
        "- preparing the three control bits in the $|+\\rangle$ state \n",
        "- applying the control power of $U^{2^2}, U^{2^1}, U^{2^0}$ gates\n",
        "\n",
        "assuming that the target qubit is in state $|\\psi\\rangle$ and $U|\\psi\\rangle=e^{2 \\pi i \\varphi} |\\psi\\rangle$.)\n",
        "\n",
        "You can preprare the initial state applying ```U1``` gates on qubits prepared $|+\\rangle$. See [Qiskit U1 gate documentation](https://qiskit.org/documentation/stubs/qiskit.extensions.U1Gate.html). \n",
        "\n",
        "The controlled $R_k^\\dagger$ gates occuring in the inverse Fourier transform circuit can be realized with the help of controlled ```U1``` gates.  "
      ]
    },
    {
      "cell_type": "code",
      "metadata": {
        "id": "cUH6Pq_BAWTg",
        "colab_type": "code",
        "colab": {}
      },
      "source": [
        "#Installing qiskit\n",
        "#!pip install qiskit\n",
        "#!pip install qiskit-terra[visualization]\n",
        "#initialization\n",
        "import matplotlib.pyplot as plt\n",
        "%matplotlib inline\n",
        "%config InlineBackend.figure_format = 'svg'\n",
        "import numpy as np\n",
        "from qiskit import Aer, QuantumCircuit, ClassicalRegister, QuantumRegister, execute\n",
        "from qiskit.visualization import plot_histogram"
      ],
      "execution_count": 0,
      "outputs": []
    },
    {
      "cell_type": "code",
      "metadata": {
        "id": "UyistJBbfp29",
        "colab_type": "code",
        "colab": {}
      },
      "source": [
        "def prepare_states(circ1, angle):\n",
        "  #angle will define the U-gate. \n",
        "  circ1.x(3)#|1> is an eigenvector of the U-gate\n",
        "  for i in range(3):\n",
        "    circ1.h(i)#apply Hadamard 3 times\n",
        "  \n",
        "  for i in range(3):#Iterate over all control qbits\n",
        "    k_pow = 2 ** i\n",
        "    for j in range(k_pow):#Have to apply 2^k times\n",
        "      circ1.cu1(angle, 2 - i, 3)"
      ],
      "execution_count": 0,
      "outputs": []
    },
    {
      "cell_type": "code",
      "metadata": {
        "id": "49C_DieWx-fZ",
        "colab_type": "code",
        "colab": {}
      },
      "source": [
        "def inv_fourier(circ1):\n",
        "  for i in range(3):#Iterate over all qbits\n",
        "    for j in range(i):#For i=0 we don't have any R_k, i=1 we have 1 and so on...\n",
        "      k = i - j + 1\n",
        "      angle = np.pi / (2**(k-1))\n",
        "      circ1.cu1(-angle, j, i)\n",
        "    circ1.h(i)"
      ],
      "execution_count": 0,
      "outputs": []
    },
    {
      "cell_type": "markdown",
      "metadata": {
        "id": "4ExYisC5RfM3",
        "colab_type": "text"
      },
      "source": [
        "First we will try out the T-gate. \n",
        "\n",
        "T = $\\begin{bmatrix} 1 & 0 \\\\ 0 & e^{i\\frac{\\pi}{4}} \\end{bmatrix}$\n",
        "\n",
        "It changes the phase of eigenvector $|1\\rangle$ by \\\\\n",
        "$T|1\\rangle = e^{2\\pi i\\varphi}|1\\rangle$ where $\\varphi = \\frac{1}{8}$ \\\\\n",
        "\n",
        "So we expect the answer to be 001 as $\\varphi = 0.001$ in binary means $\\frac{1}{8}$ in decimals."
      ]
    },
    {
      "cell_type": "code",
      "metadata": {
        "id": "1nZWljGdA64Q",
        "colab_type": "code",
        "outputId": "155ae9bb-7187-4928-a586-0f9bd3e0ed34",
        "colab": {
          "base_uri": "https://localhost:8080/",
          "height": 367
        }
      },
      "source": [
        "circ = QuantumCircuit(4, 3) #3-bit precision so 3 classical bits will be needed for measurement\n",
        "angle = np.pi / 4. #T-gate\n",
        "prepare_states(circ, angle)\n",
        "inv_fourier(circ)\n",
        "for n in range(3):\n",
        "    circ.measure(n,n) #Reverse the measures as qiskit shows them in reverse.\n",
        "circ.draw(output = 'mpl')"
      ],
      "execution_count": 0,
      "outputs": [
        {
          "output_type": "execute_result",
          "data": {
            "text/plain": [
              "<Figure size 1201.59x325.08 with 1 Axes>"
            ],
            "image/svg+xml": "<?xml version=\"1.0\" encoding=\"utf-8\" standalone=\"no\"?>\n<!DOCTYPE svg PUBLIC \"-//W3C//DTD SVG 1.1//EN\"\n  \"http://www.w3.org/Graphics/SVG/1.1/DTD/svg11.dtd\">\n<!-- Created with matplotlib (https://matplotlib.org/) -->\n<svg height=\"259.8354pt\" version=\"1.1\" viewBox=\"0 0 921.60196 259.8354\" width=\"921.60196pt\" xmlns=\"http://www.w3.org/2000/svg\" xmlns:xlink=\"http://www.w3.org/1999/xlink\">\n <defs>\n  <style type=\"text/css\">\n*{stroke-linecap:butt;stroke-linejoin:round;}\n  </style>\n </defs>\n <g id=\"figure_1\">\n  <g id=\"patch_1\">\n   <path d=\"M 0 259.8354 \nL 921.60196 259.8354 \nL 921.60196 0 \nL 0 0 \nz\n\" style=\"fill:#ffffff;\"/>\n  </g>\n  <g id=\"axes_1\">\n   <g id=\"patch_2\">\n    <path clip-path=\"url(#p5e870b3745)\" d=\"M 722.14423 215.024698 \nL 733.96149 215.024698 \nL 728.05286 225.3648 \nz\n\" style=\"fill:#778899;\"/>\n   </g>\n   <g id=\"patch_3\">\n    <path clip-path=\"url(#p5e870b3745)\" d=\"M 813.04623 215.024698 \nL 824.86349 215.024698 \nL 818.95486 225.3648 \nz\n\" style=\"fill:#778899;\"/>\n   </g>\n   <g id=\"patch_4\">\n    <path clip-path=\"url(#p5e870b3745)\" d=\"M 858.49723 215.024698 \nL 870.31449 215.024698 \nL 864.40586 225.3648 \nz\n\" style=\"fill:#778899;\"/>\n   </g>\n   <g id=\"line2d_1\">\n    <path clip-path=\"url(#p5e870b3745)\" d=\"M 100.82906 43.5608 \nL 909.85686 43.5608 \n\" style=\"fill:none;stroke:#000000;stroke-linecap:square;stroke-width:2;\"/>\n   </g>\n   <g id=\"line2d_2\">\n    <path clip-path=\"url(#p5e870b3745)\" d=\"M 100.82906 89.0118 \nL 909.85686 89.0118 \n\" style=\"fill:none;stroke:#000000;stroke-linecap:square;stroke-width:2;\"/>\n   </g>\n   <g id=\"line2d_3\">\n    <path clip-path=\"url(#p5e870b3745)\" d=\"M 100.82906 134.4628 \nL 909.85686 134.4628 \n\" style=\"fill:none;stroke:#000000;stroke-linecap:square;stroke-width:2;\"/>\n   </g>\n   <g id=\"line2d_4\">\n    <path clip-path=\"url(#p5e870b3745)\" d=\"M 100.82906 179.9138 \nL 909.85686 179.9138 \n\" style=\"fill:none;stroke:#000000;stroke-linecap:square;stroke-width:2;\"/>\n   </g>\n   <g id=\"line2d_5\">\n    <path clip-path=\"url(#p5e870b3745)\" d=\"M 100.82906 223.887643 \nL 909.85686 223.887643 \n\" style=\"fill:none;stroke:#778899;stroke-linecap:square;stroke-width:2;\"/>\n   </g>\n   <g id=\"line2d_6\">\n    <path clip-path=\"url(#p5e870b3745)\" d=\"M 100.82906 226.841958 \nL 909.85686 226.841958 \n\" style=\"fill:none;stroke:#778899;stroke-linecap:square;stroke-width:2;\"/>\n   </g>\n   <g id=\"line2d_7\">\n    <path clip-path=\"url(#p5e870b3745)\" d=\"M 182.64086 179.9138 \nL 182.64086 134.4628 \n\" style=\"fill:none;stroke:#000000;stroke-linecap:square;stroke-width:2;\"/>\n   </g>\n   <g id=\"line2d_8\">\n    <path clip-path=\"url(#p5e870b3745)\" d=\"M 228.09186 179.9138 \nL 228.09186 89.0118 \n\" style=\"fill:none;stroke:#000000;stroke-linecap:square;stroke-width:2;\"/>\n   </g>\n   <g id=\"line2d_9\">\n    <path clip-path=\"url(#p5e870b3745)\" d=\"M 273.54286 179.9138 \nL 273.54286 89.0118 \n\" style=\"fill:none;stroke:#000000;stroke-linecap:square;stroke-width:2;\"/>\n   </g>\n   <g id=\"line2d_10\">\n    <path clip-path=\"url(#p5e870b3745)\" d=\"M 318.99386 179.9138 \nL 318.99386 43.5608 \n\" style=\"fill:none;stroke:#000000;stroke-linecap:square;stroke-width:2;\"/>\n   </g>\n   <g id=\"line2d_11\">\n    <path clip-path=\"url(#p5e870b3745)\" d=\"M 364.44486 179.9138 \nL 364.44486 43.5608 \n\" style=\"fill:none;stroke:#000000;stroke-linecap:square;stroke-width:2;\"/>\n   </g>\n   <g id=\"line2d_12\">\n    <path clip-path=\"url(#p5e870b3745)\" d=\"M 409.89586 179.9138 \nL 409.89586 43.5608 \n\" style=\"fill:none;stroke:#000000;stroke-linecap:square;stroke-width:2;\"/>\n   </g>\n   <g id=\"line2d_13\">\n    <path clip-path=\"url(#p5e870b3745)\" d=\"M 455.34686 179.9138 \nL 455.34686 43.5608 \n\" style=\"fill:none;stroke:#000000;stroke-linecap:square;stroke-width:2;\"/>\n   </g>\n   <g id=\"line2d_14\">\n    <path clip-path=\"url(#p5e870b3745)\" d=\"M 546.24886 89.0118 \nL 546.24886 43.5608 \n\" style=\"fill:none;stroke:#000000;stroke-linecap:square;stroke-width:2;\"/>\n   </g>\n   <g id=\"line2d_15\">\n    <path clip-path=\"url(#p5e870b3745)\" d=\"M 637.15086 134.4628 \nL 637.15086 43.5608 \n\" style=\"fill:none;stroke:#000000;stroke-linecap:square;stroke-width:2;\"/>\n   </g>\n   <g id=\"line2d_16\">\n    <path clip-path=\"url(#p5e870b3745)\" d=\"M 682.60186 134.4628 \nL 682.60186 89.0118 \n\" style=\"fill:none;stroke:#000000;stroke-linecap:square;stroke-width:2;\"/>\n   </g>\n   <g id=\"line2d_17\">\n    <path clip-path=\"url(#p5e870b3745)\" d=\"M 729.530017 43.5608 \nL 729.530017 215.024698 \n\" style=\"fill:none;stroke:#778899;stroke-linecap:square;stroke-width:2;\"/>\n   </g>\n   <g id=\"line2d_18\">\n    <path clip-path=\"url(#p5e870b3745)\" d=\"M 726.575702 43.5608 \nL 726.575702 215.024698 \n\" style=\"fill:none;stroke:#778899;stroke-linecap:square;stroke-width:2;\"/>\n   </g>\n   <g id=\"line2d_19\">\n    <path clip-path=\"url(#p5e870b3745)\" d=\"M 820.432017 89.0118 \nL 820.432017 215.024698 \n\" style=\"fill:none;stroke:#778899;stroke-linecap:square;stroke-width:2;\"/>\n   </g>\n   <g id=\"line2d_20\">\n    <path clip-path=\"url(#p5e870b3745)\" d=\"M 817.477702 89.0118 \nL 817.477702 215.024698 \n\" style=\"fill:none;stroke:#778899;stroke-linecap:square;stroke-width:2;\"/>\n   </g>\n   <g id=\"line2d_21\">\n    <path clip-path=\"url(#p5e870b3745)\" d=\"M 865.883017 134.4628 \nL 865.883017 215.024698 \n\" style=\"fill:none;stroke:#778899;stroke-linecap:square;stroke-width:2;\"/>\n   </g>\n   <g id=\"line2d_22\">\n    <path clip-path=\"url(#p5e870b3745)\" d=\"M 862.928702 134.4628 \nL 862.928702 215.024698 \n\" style=\"fill:none;stroke:#778899;stroke-linecap:square;stroke-width:2;\"/>\n   </g>\n   <g id=\"line2d_23\">\n    <path clip-path=\"url(#p5e870b3745)\" d=\"M 141.73496 229.9099 \nL 146.28006 220.8197 \n\" style=\"fill:none;stroke:#778899;stroke-linecap:square;stroke-width:1.5;\"/>\n   </g>\n   <g id=\"patch_5\">\n    <path clip-path=\"url(#p5e870b3745)\" d=\"M 122.418285 194.685375 \nL 151.961435 194.685375 \nL 151.961435 165.142225 \nL 122.418285 165.142225 \nz\n\" style=\"fill:#05bab6;\"/>\n   </g>\n   <g id=\"patch_6\">\n    <path clip-path=\"url(#p5e870b3745)\" d=\"M 122.418285 58.332375 \nL 151.961435 58.332375 \nL 151.961435 28.789225 \nL 122.418285 28.789225 \nz\n\" style=\"fill:#6fa4ff;\"/>\n   </g>\n   <g id=\"patch_7\">\n    <path clip-path=\"url(#p5e870b3745)\" d=\"M 122.418285 103.783375 \nL 151.961435 103.783375 \nL 151.961435 74.240225 \nL 122.418285 74.240225 \nz\n\" style=\"fill:#6fa4ff;\"/>\n   </g>\n   <g id=\"patch_8\">\n    <path clip-path=\"url(#p5e870b3745)\" d=\"M 122.418285 149.234375 \nL 151.961435 149.234375 \nL 151.961435 119.691225 \nL 122.418285 119.691225 \nz\n\" style=\"fill:#6fa4ff;\"/>\n   </g>\n   <g id=\"patch_9\">\n    <path clip-path=\"url(#p5e870b3745)\" d=\"M 182.64086 138.894273 \nC 183.8161 138.894273 184.943364 138.427345 185.774384 137.596324 \nC 186.605405 136.765304 187.072332 135.63804 187.072332 134.4628 \nC 187.072332 133.28756 186.605405 132.160296 185.774384 131.329276 \nC 184.943364 130.498255 183.8161 130.031328 182.64086 130.031328 \nC 181.46562 130.031328 180.338356 130.498255 179.507336 131.329276 \nC 178.676315 132.160296 178.209387 133.28756 178.209387 134.4628 \nC 178.209387 135.63804 178.676315 136.765304 179.507336 137.596324 \nC 180.338356 138.427345 181.46562 138.894273 182.64086 138.894273 \nz\n\" style=\"stroke:#000000;stroke-linejoin:miter;stroke-width:1.5;\"/>\n   </g>\n   <g id=\"patch_10\">\n    <path clip-path=\"url(#p5e870b3745)\" d=\"M 182.64086 184.345273 \nC 183.8161 184.345273 184.943364 183.878345 185.774384 183.047324 \nC 186.605405 182.216304 187.072332 181.08904 187.072332 179.9138 \nC 187.072332 178.73856 186.605405 177.611296 185.774384 176.780276 \nC 184.943364 175.949255 183.8161 175.482327 182.64086 175.482327 \nC 181.46562 175.482327 180.338356 175.949255 179.507336 176.780276 \nC 178.676315 177.611296 178.209387 178.73856 178.209387 179.9138 \nC 178.209387 181.08904 178.676315 182.216304 179.507336 183.047324 \nC 180.338356 183.878345 181.46562 184.345273 182.64086 184.345273 \nz\n\" style=\"stroke:#000000;stroke-linejoin:miter;stroke-width:1.5;\"/>\n   </g>\n   <g id=\"patch_11\">\n    <path clip-path=\"url(#p5e870b3745)\" d=\"M 228.09186 93.443272 \nC 229.2671 93.443272 230.394364 92.976345 231.225384 92.145324 \nC 232.056405 91.314304 232.523332 90.18704 232.523332 89.0118 \nC 232.523332 87.83656 232.056405 86.709296 231.225384 85.878276 \nC 230.394364 85.047255 229.2671 84.580327 228.09186 84.580327 \nC 226.91662 84.580327 225.789356 85.047255 224.958336 85.878276 \nC 224.127315 86.709296 223.660387 87.83656 223.660387 89.0118 \nC 223.660387 90.18704 224.127315 91.314304 224.958336 92.145324 \nC 225.789356 92.976345 226.91662 93.443272 228.09186 93.443272 \nz\n\" style=\"stroke:#000000;stroke-linejoin:miter;stroke-width:1.5;\"/>\n   </g>\n   <g id=\"patch_12\">\n    <path clip-path=\"url(#p5e870b3745)\" d=\"M 228.09186 184.345273 \nC 229.2671 184.345273 230.394364 183.878345 231.225384 183.047324 \nC 232.056405 182.216304 232.523332 181.08904 232.523332 179.9138 \nC 232.523332 178.73856 232.056405 177.611296 231.225384 176.780276 \nC 230.394364 175.949255 229.2671 175.482327 228.09186 175.482327 \nC 226.91662 175.482327 225.789356 175.949255 224.958336 176.780276 \nC 224.127315 177.611296 223.660387 178.73856 223.660387 179.9138 \nC 223.660387 181.08904 224.127315 182.216304 224.958336 183.047324 \nC 225.789356 183.878345 226.91662 184.345273 228.09186 184.345273 \nz\n\" style=\"stroke:#000000;stroke-linejoin:miter;stroke-width:1.5;\"/>\n   </g>\n   <g id=\"patch_13\">\n    <path clip-path=\"url(#p5e870b3745)\" d=\"M 273.54286 93.443272 \nC 274.7181 93.443272 275.845364 92.976345 276.676384 92.145324 \nC 277.507405 91.314304 277.974332 90.18704 277.974332 89.0118 \nC 277.974332 87.83656 277.507405 86.709296 276.676384 85.878276 \nC 275.845364 85.047255 274.7181 84.580327 273.54286 84.580327 \nC 272.36762 84.580327 271.240356 85.047255 270.409336 85.878276 \nC 269.578315 86.709296 269.111387 87.83656 269.111387 89.0118 \nC 269.111387 90.18704 269.578315 91.314304 270.409336 92.145324 \nC 271.240356 92.976345 272.36762 93.443272 273.54286 93.443272 \nz\n\" style=\"stroke:#000000;stroke-linejoin:miter;stroke-width:1.5;\"/>\n   </g>\n   <g id=\"patch_14\">\n    <path clip-path=\"url(#p5e870b3745)\" d=\"M 273.54286 184.345273 \nC 274.7181 184.345273 275.845364 183.878345 276.676384 183.047324 \nC 277.507405 182.216304 277.974332 181.08904 277.974332 179.9138 \nC 277.974332 178.73856 277.507405 177.611296 276.676384 176.780276 \nC 275.845364 175.949255 274.7181 175.482327 273.54286 175.482327 \nC 272.36762 175.482327 271.240356 175.949255 270.409336 176.780276 \nC 269.578315 177.611296 269.111387 178.73856 269.111387 179.9138 \nC 269.111387 181.08904 269.578315 182.216304 270.409336 183.047324 \nC 271.240356 183.878345 272.36762 184.345273 273.54286 184.345273 \nz\n\" style=\"stroke:#000000;stroke-linejoin:miter;stroke-width:1.5;\"/>\n   </g>\n   <g id=\"patch_15\">\n    <path clip-path=\"url(#p5e870b3745)\" d=\"M 318.99386 47.992272 \nC 320.1691 47.992272 321.296364 47.525345 322.127384 46.694324 \nC 322.958405 45.863304 323.425332 44.73604 323.425332 43.5608 \nC 323.425332 42.38556 322.958405 41.258296 322.127384 40.427276 \nC 321.296364 39.596255 320.1691 39.129328 318.99386 39.129328 \nC 317.81862 39.129328 316.691356 39.596255 315.860336 40.427276 \nC 315.029315 41.258296 314.562387 42.38556 314.562387 43.5608 \nC 314.562387 44.73604 315.029315 45.863304 315.860336 46.694324 \nC 316.691356 47.525345 317.81862 47.992272 318.99386 47.992272 \nz\n\" style=\"stroke:#000000;stroke-linejoin:miter;stroke-width:1.5;\"/>\n   </g>\n   <g id=\"patch_16\">\n    <path clip-path=\"url(#p5e870b3745)\" d=\"M 318.99386 184.345273 \nC 320.1691 184.345273 321.296364 183.878345 322.127384 183.047324 \nC 322.958405 182.216304 323.425332 181.08904 323.425332 179.9138 \nC 323.425332 178.73856 322.958405 177.611296 322.127384 176.780276 \nC 321.296364 175.949255 320.1691 175.482327 318.99386 175.482327 \nC 317.81862 175.482327 316.691356 175.949255 315.860336 176.780276 \nC 315.029315 177.611296 314.562387 178.73856 314.562387 179.9138 \nC 314.562387 181.08904 315.029315 182.216304 315.860336 183.047324 \nC 316.691356 183.878345 317.81862 184.345273 318.99386 184.345273 \nz\n\" style=\"stroke:#000000;stroke-linejoin:miter;stroke-width:1.5;\"/>\n   </g>\n   <g id=\"patch_17\">\n    <path clip-path=\"url(#p5e870b3745)\" d=\"M 364.44486 47.992272 \nC 365.6201 47.992272 366.747364 47.525345 367.578384 46.694324 \nC 368.409405 45.863304 368.876332 44.73604 368.876332 43.5608 \nC 368.876332 42.38556 368.409405 41.258296 367.578384 40.427276 \nC 366.747364 39.596255 365.6201 39.129328 364.44486 39.129328 \nC 363.26962 39.129328 362.142356 39.596255 361.311336 40.427276 \nC 360.480315 41.258296 360.013387 42.38556 360.013387 43.5608 \nC 360.013387 44.73604 360.480315 45.863304 361.311336 46.694324 \nC 362.142356 47.525345 363.26962 47.992272 364.44486 47.992272 \nz\n\" style=\"stroke:#000000;stroke-linejoin:miter;stroke-width:1.5;\"/>\n   </g>\n   <g id=\"patch_18\">\n    <path clip-path=\"url(#p5e870b3745)\" d=\"M 364.44486 184.345273 \nC 365.6201 184.345273 366.747364 183.878345 367.578384 183.047324 \nC 368.409405 182.216304 368.876332 181.08904 368.876332 179.9138 \nC 368.876332 178.73856 368.409405 177.611296 367.578384 176.780276 \nC 366.747364 175.949255 365.6201 175.482327 364.44486 175.482327 \nC 363.26962 175.482327 362.142356 175.949255 361.311336 176.780276 \nC 360.480315 177.611296 360.013387 178.73856 360.013387 179.9138 \nC 360.013387 181.08904 360.480315 182.216304 361.311336 183.047324 \nC 362.142356 183.878345 363.26962 184.345273 364.44486 184.345273 \nz\n\" style=\"stroke:#000000;stroke-linejoin:miter;stroke-width:1.5;\"/>\n   </g>\n   <g id=\"patch_19\">\n    <path clip-path=\"url(#p5e870b3745)\" d=\"M 409.89586 47.992272 \nC 411.0711 47.992272 412.198364 47.525345 413.029384 46.694324 \nC 413.860405 45.863304 414.327332 44.73604 414.327332 43.5608 \nC 414.327332 42.38556 413.860405 41.258296 413.029384 40.427276 \nC 412.198364 39.596255 411.0711 39.129328 409.89586 39.129328 \nC 408.72062 39.129328 407.593356 39.596255 406.762336 40.427276 \nC 405.931315 41.258296 405.464387 42.38556 405.464387 43.5608 \nC 405.464387 44.73604 405.931315 45.863304 406.762336 46.694324 \nC 407.593356 47.525345 408.72062 47.992272 409.89586 47.992272 \nz\n\" style=\"stroke:#000000;stroke-linejoin:miter;stroke-width:1.5;\"/>\n   </g>\n   <g id=\"patch_20\">\n    <path clip-path=\"url(#p5e870b3745)\" d=\"M 409.89586 184.345273 \nC 411.0711 184.345273 412.198364 183.878345 413.029384 183.047324 \nC 413.860405 182.216304 414.327332 181.08904 414.327332 179.9138 \nC 414.327332 178.73856 413.860405 177.611296 413.029384 176.780276 \nC 412.198364 175.949255 411.0711 175.482327 409.89586 175.482327 \nC 408.72062 175.482327 407.593356 175.949255 406.762336 176.780276 \nC 405.931315 177.611296 405.464387 178.73856 405.464387 179.9138 \nC 405.464387 181.08904 405.931315 182.216304 406.762336 183.047324 \nC 407.593356 183.878345 408.72062 184.345273 409.89586 184.345273 \nz\n\" style=\"stroke:#000000;stroke-linejoin:miter;stroke-width:1.5;\"/>\n   </g>\n   <g id=\"patch_21\">\n    <path clip-path=\"url(#p5e870b3745)\" d=\"M 455.34686 47.992272 \nC 456.5221 47.992272 457.649364 47.525345 458.480384 46.694324 \nC 459.311405 45.863304 459.778332 44.73604 459.778332 43.5608 \nC 459.778332 42.38556 459.311405 41.258296 458.480384 40.427276 \nC 457.649364 39.596255 456.5221 39.129328 455.34686 39.129328 \nC 454.17162 39.129328 453.044356 39.596255 452.213336 40.427276 \nC 451.382315 41.258296 450.915387 42.38556 450.915387 43.5608 \nC 450.915387 44.73604 451.382315 45.863304 452.213336 46.694324 \nC 453.044356 47.525345 454.17162 47.992272 455.34686 47.992272 \nz\n\" style=\"stroke:#000000;stroke-linejoin:miter;stroke-width:1.5;\"/>\n   </g>\n   <g id=\"patch_22\">\n    <path clip-path=\"url(#p5e870b3745)\" d=\"M 455.34686 184.345273 \nC 456.5221 184.345273 457.649364 183.878345 458.480384 183.047324 \nC 459.311405 182.216304 459.778332 181.08904 459.778332 179.9138 \nC 459.778332 178.73856 459.311405 177.611296 458.480384 176.780276 \nC 457.649364 175.949255 456.5221 175.482327 455.34686 175.482327 \nC 454.17162 175.482327 453.044356 175.949255 452.213336 176.780276 \nC 451.382315 177.611296 450.915387 178.73856 450.915387 179.9138 \nC 450.915387 181.08904 451.382315 182.216304 452.213336 183.047324 \nC 453.044356 183.878345 454.17162 184.345273 455.34686 184.345273 \nz\n\" style=\"stroke:#000000;stroke-linejoin:miter;stroke-width:1.5;\"/>\n   </g>\n   <g id=\"patch_23\">\n    <path clip-path=\"url(#p5e870b3745)\" d=\"M 486.026285 58.332375 \nL 515.569435 58.332375 \nL 515.569435 28.789225 \nL 486.026285 28.789225 \nz\n\" style=\"fill:#6fa4ff;\"/>\n   </g>\n   <g id=\"patch_24\">\n    <path clip-path=\"url(#p5e870b3745)\" d=\"M 546.24886 47.992272 \nC 547.4241 47.992272 548.551364 47.525345 549.382384 46.694324 \nC 550.213405 45.863304 550.680332 44.73604 550.680332 43.5608 \nC 550.680332 42.38556 550.213405 41.258296 549.382384 40.427276 \nC 548.551364 39.596255 547.4241 39.129328 546.24886 39.129328 \nC 545.07362 39.129328 543.946356 39.596255 543.115336 40.427276 \nC 542.284315 41.258296 541.817387 42.38556 541.817387 43.5608 \nC 541.817387 44.73604 542.284315 45.863304 543.115336 46.694324 \nC 543.946356 47.525345 545.07362 47.992272 546.24886 47.992272 \nz\n\" style=\"stroke:#000000;stroke-linejoin:miter;stroke-width:1.5;\"/>\n   </g>\n   <g id=\"patch_25\">\n    <path clip-path=\"url(#p5e870b3745)\" d=\"M 546.24886 93.443272 \nC 547.4241 93.443272 548.551364 92.976345 549.382384 92.145324 \nC 550.213405 91.314304 550.680332 90.18704 550.680332 89.0118 \nC 550.680332 87.83656 550.213405 86.709296 549.382384 85.878276 \nC 548.551364 85.047255 547.4241 84.580327 546.24886 84.580327 \nC 545.07362 84.580327 543.946356 85.047255 543.115336 85.878276 \nC 542.284315 86.709296 541.817387 87.83656 541.817387 89.0118 \nC 541.817387 90.18704 542.284315 91.314304 543.115336 92.145324 \nC 543.946356 92.976345 545.07362 93.443272 546.24886 93.443272 \nz\n\" style=\"stroke:#000000;stroke-linejoin:miter;stroke-width:1.5;\"/>\n   </g>\n   <g id=\"patch_26\">\n    <path clip-path=\"url(#p5e870b3745)\" d=\"M 576.928285 103.783375 \nL 606.471435 103.783375 \nL 606.471435 74.240225 \nL 576.928285 74.240225 \nz\n\" style=\"fill:#6fa4ff;\"/>\n   </g>\n   <g id=\"patch_27\">\n    <path clip-path=\"url(#p5e870b3745)\" d=\"M 637.15086 47.992272 \nC 638.3261 47.992272 639.453364 47.525345 640.284384 46.694324 \nC 641.115405 45.863304 641.582332 44.73604 641.582332 43.5608 \nC 641.582332 42.38556 641.115405 41.258296 640.284384 40.427276 \nC 639.453364 39.596255 638.3261 39.129328 637.15086 39.129328 \nC 635.97562 39.129328 634.848356 39.596255 634.017336 40.427276 \nC 633.186315 41.258296 632.719387 42.38556 632.719387 43.5608 \nC 632.719387 44.73604 633.186315 45.863304 634.017336 46.694324 \nC 634.848356 47.525345 635.97562 47.992272 637.15086 47.992272 \nz\n\" style=\"stroke:#000000;stroke-linejoin:miter;stroke-width:1.5;\"/>\n   </g>\n   <g id=\"patch_28\">\n    <path clip-path=\"url(#p5e870b3745)\" d=\"M 637.15086 138.894273 \nC 638.3261 138.894273 639.453364 138.427345 640.284384 137.596324 \nC 641.115405 136.765304 641.582332 135.63804 641.582332 134.4628 \nC 641.582332 133.28756 641.115405 132.160296 640.284384 131.329276 \nC 639.453364 130.498255 638.3261 130.031328 637.15086 130.031328 \nC 635.97562 130.031328 634.848356 130.498255 634.017336 131.329276 \nC 633.186315 132.160296 632.719387 133.28756 632.719387 134.4628 \nC 632.719387 135.63804 633.186315 136.765304 634.017336 137.596324 \nC 634.848356 138.427345 635.97562 138.894273 637.15086 138.894273 \nz\n\" style=\"stroke:#000000;stroke-linejoin:miter;stroke-width:1.5;\"/>\n   </g>\n   <g id=\"patch_29\">\n    <path clip-path=\"url(#p5e870b3745)\" d=\"M 682.60186 93.443272 \nC 683.7771 93.443272 684.904364 92.976345 685.735384 92.145324 \nC 686.566405 91.314304 687.033332 90.18704 687.033332 89.0118 \nC 687.033332 87.83656 686.566405 86.709296 685.735384 85.878276 \nC 684.904364 85.047255 683.7771 84.580327 682.60186 84.580327 \nC 681.42662 84.580327 680.299356 85.047255 679.468336 85.878276 \nC 678.637315 86.709296 678.170387 87.83656 678.170387 89.0118 \nC 678.170387 90.18704 678.637315 91.314304 679.468336 92.145324 \nC 680.299356 92.976345 681.42662 93.443272 682.60186 93.443272 \nz\n\" style=\"stroke:#000000;stroke-linejoin:miter;stroke-width:1.5;\"/>\n   </g>\n   <g id=\"patch_30\">\n    <path clip-path=\"url(#p5e870b3745)\" d=\"M 682.60186 138.894273 \nC 683.7771 138.894273 684.904364 138.427345 685.735384 137.596324 \nC 686.566405 136.765304 687.033332 135.63804 687.033332 134.4628 \nC 687.033332 133.28756 686.566405 132.160296 685.735384 131.329276 \nC 684.904364 130.498255 683.7771 130.031328 682.60186 130.031328 \nC 681.42662 130.031328 680.299356 130.498255 679.468336 131.329276 \nC 678.637315 132.160296 678.170387 133.28756 678.170387 134.4628 \nC 678.170387 135.63804 678.637315 136.765304 679.468336 137.596324 \nC 680.299356 138.427345 681.42662 138.894273 682.60186 138.894273 \nz\n\" style=\"stroke:#000000;stroke-linejoin:miter;stroke-width:1.5;\"/>\n   </g>\n   <g id=\"patch_31\">\n    <path clip-path=\"url(#p5e870b3745)\" d=\"M 713.281285 58.332375 \nL 742.824435 58.332375 \nL 742.824435 28.789225 \nL 713.281285 28.789225 \nz\n\"/>\n   </g>\n   <g id=\"patch_32\">\n    <path clip-path=\"url(#p5e870b3745)\" d=\"M 738.392962 47.992273 \nC 738.392962 45.250959 737.302818 42.619118 735.364417 40.680716 \nC 733.426015 38.742314 730.794174 37.65217 728.05286 37.65217 \nC 725.311546 37.65217 722.679705 38.742314 720.741303 40.680716 \nC 718.802902 42.619118 717.712757 45.250959 717.712757 47.992273 \n\" style=\"fill:none;stroke:#ffffff;stroke-linejoin:miter;stroke-width:2;\"/>\n   </g>\n   <g id=\"patch_33\">\n    <path clip-path=\"url(#p5e870b3745)\" d=\"M 758.732285 149.234375 \nL 788.275435 149.234375 \nL 788.275435 119.691225 \nL 758.732285 119.691225 \nz\n\" style=\"fill:#6fa4ff;\"/>\n   </g>\n   <g id=\"patch_34\">\n    <path clip-path=\"url(#p5e870b3745)\" d=\"M 804.183285 103.783375 \nL 833.726435 103.783375 \nL 833.726435 74.240225 \nL 804.183285 74.240225 \nz\n\"/>\n   </g>\n   <g id=\"patch_35\">\n    <path clip-path=\"url(#p5e870b3745)\" d=\"M 829.294962 93.443273 \nC 829.294962 90.701959 828.204818 88.070118 826.266417 86.131716 \nC 824.328015 84.193314 821.696174 83.10317 818.95486 83.10317 \nC 816.213546 83.10317 813.581705 84.193314 811.643303 86.131716 \nC 809.704902 88.070118 808.614757 90.701959 808.614757 93.443273 \n\" style=\"fill:none;stroke:#ffffff;stroke-linejoin:miter;stroke-width:2;\"/>\n   </g>\n   <g id=\"patch_36\">\n    <path clip-path=\"url(#p5e870b3745)\" d=\"M 849.634285 149.234375 \nL 879.177435 149.234375 \nL 879.177435 119.691225 \nL 849.634285 119.691225 \nz\n\"/>\n   </g>\n   <g id=\"patch_37\">\n    <path clip-path=\"url(#p5e870b3745)\" d=\"M 874.745962 138.894273 \nC 874.745962 136.152959 873.655818 133.521118 871.717417 131.582716 \nC 869.779015 129.644314 867.147174 128.55417 864.40586 128.55417 \nC 861.664546 128.55417 859.032705 129.644314 857.094303 131.582716 \nC 855.155902 133.521118 854.065757 136.152959 854.065757 138.894273 \n\" style=\"fill:none;stroke:#ffffff;stroke-linejoin:miter;stroke-width:2;\"/>\n   </g>\n   <g id=\"line2d_24\">\n    <path clip-path=\"url(#p5e870b3745)\" d=\"M 728.05286 47.992272 \nL 738.392962 37.65217 \n\" style=\"fill:none;stroke:#ffffff;stroke-linecap:square;stroke-width:2;\"/>\n   </g>\n   <g id=\"line2d_25\">\n    <path clip-path=\"url(#p5e870b3745)\" d=\"M 818.95486 93.443273 \nL 829.294962 83.10317 \n\" style=\"fill:none;stroke:#ffffff;stroke-linecap:square;stroke-width:2;\"/>\n   </g>\n   <g id=\"line2d_26\">\n    <path clip-path=\"url(#p5e870b3745)\" d=\"M 864.40586 138.894273 \nL 874.745962 128.55417 \n\" style=\"fill:none;stroke:#ffffff;stroke-linecap:square;stroke-width:2;\"/>\n   </g>\n   <g id=\"text_1\">\n    <g clip-path=\"url(#p5e870b3745)\">\n     <!-- $X$ -->\n     <defs>\n      <path d=\"M 13.71875 72.90625 \nL 23.6875 72.90625 \nL 36.1875 46.578125 \nL 58.796875 72.90625 \nL 70.3125 72.90625 \nL 40.28125 38.09375 \nL 58.40625 0 \nL 48.484375 0 \nL 33.796875 30.71875 \nL 7.171875 0 \nL -4.296875 0 \nL 29.78125 39.203125 \nz\n\" id=\"DejaVuSans-Oblique-88\"/>\n     </defs>\n     <g transform=\"translate(132.70486 183.500988)scale(0.13 -0.13)\">\n      <use transform=\"translate(0 0.09375)\" xlink:href=\"#DejaVuSans-Oblique-88\"/>\n     </g>\n    </g>\n   </g>\n   <g id=\"text_2\">\n    <g clip-path=\"url(#p5e870b3745)\">\n     <!-- $H$ -->\n     <defs>\n      <path d=\"M 16.890625 72.90625 \nL 26.8125 72.90625 \nL 21 43.015625 \nL 56.78125 43.015625 \nL 62.59375 72.90625 \nL 72.515625 72.90625 \nL 58.296875 0 \nL 48.390625 0 \nL 55.171875 34.71875 \nL 19.390625 34.71875 \nL 12.59375 0 \nL 2.6875 0 \nz\n\" id=\"DejaVuSans-Oblique-72\"/>\n     </defs>\n     <g transform=\"translate(132.24986 47.147987)scale(0.13 -0.13)\">\n      <use transform=\"translate(0 0.09375)\" xlink:href=\"#DejaVuSans-Oblique-72\"/>\n     </g>\n    </g>\n   </g>\n   <g id=\"text_3\">\n    <g clip-path=\"url(#p5e870b3745)\">\n     <!-- $H$ -->\n     <g transform=\"translate(132.24986 92.598987)scale(0.13 -0.13)\">\n      <use transform=\"translate(0 0.09375)\" xlink:href=\"#DejaVuSans-Oblique-72\"/>\n     </g>\n    </g>\n   </g>\n   <g id=\"text_4\">\n    <g clip-path=\"url(#p5e870b3745)\">\n     <!-- $H$ -->\n     <g transform=\"translate(132.24986 138.049988)scale(0.13 -0.13)\">\n      <use transform=\"translate(0 0.09375)\" xlink:href=\"#DejaVuSans-Oblique-72\"/>\n     </g>\n    </g>\n   </g>\n   <g id=\"text_5\">\n    <g clip-path=\"url(#p5e870b3745)\">\n     <!-- U1 ($\\pi$/4) -->\n     <defs>\n      <path d=\"M 8.6875 72.90625 \nL 18.609375 72.90625 \nL 18.609375 28.609375 \nQ 18.609375 16.890625 22.84375 11.734375 \nQ 27.09375 6.59375 36.625 6.59375 \nQ 46.09375 6.59375 50.34375 11.734375 \nQ 54.59375 16.890625 54.59375 28.609375 \nL 54.59375 72.90625 \nL 64.5 72.90625 \nL 64.5 27.390625 \nQ 64.5 13.140625 57.4375 5.859375 \nQ 50.390625 -1.421875 36.625 -1.421875 \nQ 22.796875 -1.421875 15.734375 5.859375 \nQ 8.6875 13.140625 8.6875 27.390625 \nz\n\" id=\"DejaVuSans-85\"/>\n      <path d=\"M 12.40625 8.296875 \nL 28.515625 8.296875 \nL 28.515625 63.921875 \nL 10.984375 60.40625 \nL 10.984375 69.390625 \nL 28.421875 72.90625 \nL 38.28125 72.90625 \nL 38.28125 8.296875 \nL 54.390625 8.296875 \nL 54.390625 0 \nL 12.40625 0 \nz\n\" id=\"DejaVuSans-49\"/>\n      <path id=\"DejaVuSans-32\"/>\n      <path d=\"M 31 75.875 \nQ 24.46875 64.65625 21.28125 53.65625 \nQ 18.109375 42.671875 18.109375 31.390625 \nQ 18.109375 20.125 21.3125 9.0625 \nQ 24.515625 -2 31 -13.1875 \nL 23.1875 -13.1875 \nQ 15.875 -1.703125 12.234375 9.375 \nQ 8.59375 20.453125 8.59375 31.390625 \nQ 8.59375 42.28125 12.203125 53.3125 \nQ 15.828125 64.359375 23.1875 75.875 \nz\n\" id=\"DejaVuSans-40\"/>\n      <path d=\"M 9.125 54.6875 \nL 61.53125 54.6875 \nL 59.765625 45.703125 \nL 52.875 45.703125 \nL 46.34375 12.109375 \nQ 45.65625 8.59375 46.578125 7.03125 \nQ 47.46875 5.515625 50.140625 5.515625 \nQ 50.875 5.515625 51.953125 5.671875 \nQ 53.078125 5.765625 53.421875 5.8125 \nL 52.15625 -0.6875 \nQ 50.34375 -1.3125 48.484375 -1.609375 \nQ 46.578125 -1.90625 44.78125 -1.90625 \nQ 38.921875 -1.90625 37.3125 1.265625 \nQ 35.6875 4.5 37.359375 13.09375 \nL 43.703125 45.703125 \nL 23.53125 45.703125 \nL 14.65625 0 \nL 5.46875 0 \nL 14.359375 45.703125 \nL 7.375 45.703125 \nz\n\" id=\"DejaVuSans-Oblique-960\"/>\n      <path d=\"M 25.390625 72.90625 \nL 33.6875 72.90625 \nL 8.296875 -9.28125 \nL 0 -9.28125 \nz\n\" id=\"DejaVuSans-47\"/>\n      <path d=\"M 37.796875 64.3125 \nL 12.890625 25.390625 \nL 37.796875 25.390625 \nz\nM 35.203125 72.90625 \nL 47.609375 72.90625 \nL 47.609375 25.390625 \nL 58.015625 25.390625 \nL 58.015625 17.1875 \nL 47.609375 17.1875 \nL 47.609375 0 \nL 37.796875 0 \nL 37.796875 17.1875 \nL 4.890625 17.1875 \nL 4.890625 26.703125 \nz\n\" id=\"DejaVuSans-52\"/>\n      <path d=\"M 8.015625 75.875 \nL 15.828125 75.875 \nQ 23.140625 64.359375 26.78125 53.3125 \nQ 30.421875 42.28125 30.421875 31.390625 \nQ 30.421875 20.453125 26.78125 9.375 \nQ 23.140625 -1.703125 15.828125 -13.1875 \nL 8.015625 -13.1875 \nQ 14.5 -2 17.703125 9.0625 \nQ 20.90625 20.125 20.90625 31.390625 \nQ 20.90625 42.671875 17.703125 53.65625 \nQ 14.5 64.65625 8.015625 75.875 \nz\n\" id=\"DejaVuSans-41\"/>\n     </defs>\n     <g transform=\"translate(193.71146 156.4494)scale(0.08 -0.08)\">\n      <use transform=\"translate(0 0.125)\" xlink:href=\"#DejaVuSans-85\"/>\n      <use transform=\"translate(73.193359 0.125)\" xlink:href=\"#DejaVuSans-49\"/>\n      <use transform=\"translate(136.816406 0.125)\" xlink:href=\"#DejaVuSans-32\"/>\n      <use transform=\"translate(168.603516 0.125)\" xlink:href=\"#DejaVuSans-40\"/>\n      <use transform=\"translate(207.617188 0.125)\" xlink:href=\"#DejaVuSans-Oblique-960\"/>\n      <use transform=\"translate(267.822266 0.125)\" xlink:href=\"#DejaVuSans-47\"/>\n      <use transform=\"translate(301.513672 0.125)\" xlink:href=\"#DejaVuSans-52\"/>\n      <use transform=\"translate(365.136719 0.125)\" xlink:href=\"#DejaVuSans-41\"/>\n     </g>\n    </g>\n   </g>\n   <g id=\"text_6\">\n    <g clip-path=\"url(#p5e870b3745)\">\n     <!-- U1 ($\\pi$/4) -->\n     <g transform=\"translate(239.16246 156.4494)scale(0.08 -0.08)\">\n      <use transform=\"translate(0 0.125)\" xlink:href=\"#DejaVuSans-85\"/>\n      <use transform=\"translate(73.193359 0.125)\" xlink:href=\"#DejaVuSans-49\"/>\n      <use transform=\"translate(136.816406 0.125)\" xlink:href=\"#DejaVuSans-32\"/>\n      <use transform=\"translate(168.603516 0.125)\" xlink:href=\"#DejaVuSans-40\"/>\n      <use transform=\"translate(207.617188 0.125)\" xlink:href=\"#DejaVuSans-Oblique-960\"/>\n      <use transform=\"translate(267.822266 0.125)\" xlink:href=\"#DejaVuSans-47\"/>\n      <use transform=\"translate(301.513672 0.125)\" xlink:href=\"#DejaVuSans-52\"/>\n      <use transform=\"translate(365.136719 0.125)\" xlink:href=\"#DejaVuSans-41\"/>\n     </g>\n    </g>\n   </g>\n   <g id=\"text_7\">\n    <g clip-path=\"url(#p5e870b3745)\">\n     <!-- U1 ($\\pi$/4) -->\n     <g transform=\"translate(284.61346 156.4494)scale(0.08 -0.08)\">\n      <use transform=\"translate(0 0.125)\" xlink:href=\"#DejaVuSans-85\"/>\n      <use transform=\"translate(73.193359 0.125)\" xlink:href=\"#DejaVuSans-49\"/>\n      <use transform=\"translate(136.816406 0.125)\" xlink:href=\"#DejaVuSans-32\"/>\n      <use transform=\"translate(168.603516 0.125)\" xlink:href=\"#DejaVuSans-40\"/>\n      <use transform=\"translate(207.617188 0.125)\" xlink:href=\"#DejaVuSans-Oblique-960\"/>\n      <use transform=\"translate(267.822266 0.125)\" xlink:href=\"#DejaVuSans-47\"/>\n      <use transform=\"translate(301.513672 0.125)\" xlink:href=\"#DejaVuSans-52\"/>\n      <use transform=\"translate(365.136719 0.125)\" xlink:href=\"#DejaVuSans-41\"/>\n     </g>\n    </g>\n   </g>\n   <g id=\"text_8\">\n    <g clip-path=\"url(#p5e870b3745)\">\n     <!-- U1 ($\\pi$/4) -->\n     <g transform=\"translate(330.06446 156.4494)scale(0.08 -0.08)\">\n      <use transform=\"translate(0 0.125)\" xlink:href=\"#DejaVuSans-85\"/>\n      <use transform=\"translate(73.193359 0.125)\" xlink:href=\"#DejaVuSans-49\"/>\n      <use transform=\"translate(136.816406 0.125)\" xlink:href=\"#DejaVuSans-32\"/>\n      <use transform=\"translate(168.603516 0.125)\" xlink:href=\"#DejaVuSans-40\"/>\n      <use transform=\"translate(207.617188 0.125)\" xlink:href=\"#DejaVuSans-Oblique-960\"/>\n      <use transform=\"translate(267.822266 0.125)\" xlink:href=\"#DejaVuSans-47\"/>\n      <use transform=\"translate(301.513672 0.125)\" xlink:href=\"#DejaVuSans-52\"/>\n      <use transform=\"translate(365.136719 0.125)\" xlink:href=\"#DejaVuSans-41\"/>\n     </g>\n    </g>\n   </g>\n   <g id=\"text_9\">\n    <g clip-path=\"url(#p5e870b3745)\">\n     <!-- U1 ($\\pi$/4) -->\n     <g transform=\"translate(375.51546 156.4494)scale(0.08 -0.08)\">\n      <use transform=\"translate(0 0.125)\" xlink:href=\"#DejaVuSans-85\"/>\n      <use transform=\"translate(73.193359 0.125)\" xlink:href=\"#DejaVuSans-49\"/>\n      <use transform=\"translate(136.816406 0.125)\" xlink:href=\"#DejaVuSans-32\"/>\n      <use transform=\"translate(168.603516 0.125)\" xlink:href=\"#DejaVuSans-40\"/>\n      <use transform=\"translate(207.617188 0.125)\" xlink:href=\"#DejaVuSans-Oblique-960\"/>\n      <use transform=\"translate(267.822266 0.125)\" xlink:href=\"#DejaVuSans-47\"/>\n      <use transform=\"translate(301.513672 0.125)\" xlink:href=\"#DejaVuSans-52\"/>\n      <use transform=\"translate(365.136719 0.125)\" xlink:href=\"#DejaVuSans-41\"/>\n     </g>\n    </g>\n   </g>\n   <g id=\"text_10\">\n    <g clip-path=\"url(#p5e870b3745)\">\n     <!-- U1 ($\\pi$/4) -->\n     <g transform=\"translate(420.96646 156.4494)scale(0.08 -0.08)\">\n      <use transform=\"translate(0 0.125)\" xlink:href=\"#DejaVuSans-85\"/>\n      <use transform=\"translate(73.193359 0.125)\" xlink:href=\"#DejaVuSans-49\"/>\n      <use transform=\"translate(136.816406 0.125)\" xlink:href=\"#DejaVuSans-32\"/>\n      <use transform=\"translate(168.603516 0.125)\" xlink:href=\"#DejaVuSans-40\"/>\n      <use transform=\"translate(207.617188 0.125)\" xlink:href=\"#DejaVuSans-Oblique-960\"/>\n      <use transform=\"translate(267.822266 0.125)\" xlink:href=\"#DejaVuSans-47\"/>\n      <use transform=\"translate(301.513672 0.125)\" xlink:href=\"#DejaVuSans-52\"/>\n      <use transform=\"translate(365.136719 0.125)\" xlink:href=\"#DejaVuSans-41\"/>\n     </g>\n    </g>\n   </g>\n   <g id=\"text_11\">\n    <g clip-path=\"url(#p5e870b3745)\">\n     <!-- U1 ($\\pi$/4) -->\n     <g transform=\"translate(466.41746 156.4494)scale(0.08 -0.08)\">\n      <use transform=\"translate(0 0.125)\" xlink:href=\"#DejaVuSans-85\"/>\n      <use transform=\"translate(73.193359 0.125)\" xlink:href=\"#DejaVuSans-49\"/>\n      <use transform=\"translate(136.816406 0.125)\" xlink:href=\"#DejaVuSans-32\"/>\n      <use transform=\"translate(168.603516 0.125)\" xlink:href=\"#DejaVuSans-40\"/>\n      <use transform=\"translate(207.617188 0.125)\" xlink:href=\"#DejaVuSans-Oblique-960\"/>\n      <use transform=\"translate(267.822266 0.125)\" xlink:href=\"#DejaVuSans-47\"/>\n      <use transform=\"translate(301.513672 0.125)\" xlink:href=\"#DejaVuSans-52\"/>\n      <use transform=\"translate(365.136719 0.125)\" xlink:href=\"#DejaVuSans-41\"/>\n     </g>\n    </g>\n   </g>\n   <g id=\"text_12\">\n    <g clip-path=\"url(#p5e870b3745)\">\n     <!-- $H$ -->\n     <g transform=\"translate(495.85786 47.147987)scale(0.13 -0.13)\">\n      <use transform=\"translate(0 0.09375)\" xlink:href=\"#DejaVuSans-Oblique-72\"/>\n     </g>\n    </g>\n   </g>\n   <g id=\"text_13\">\n    <g clip-path=\"url(#p5e870b3745)\">\n     <!-- U1 ($-$$\\pi$/2) -->\n     <defs>\n      <path d=\"M 10.59375 35.5 \nL 73.1875 35.5 \nL 73.1875 27.203125 \nL 10.59375 27.203125 \nz\n\" id=\"DejaVuSans-8722\"/>\n      <path d=\"M 19.1875 8.296875 \nL 53.609375 8.296875 \nL 53.609375 0 \nL 7.328125 0 \nL 7.328125 8.296875 \nQ 12.9375 14.109375 22.625 23.890625 \nQ 32.328125 33.6875 34.8125 36.53125 \nQ 39.546875 41.84375 41.421875 45.53125 \nQ 43.3125 49.21875 43.3125 52.78125 \nQ 43.3125 58.59375 39.234375 62.25 \nQ 35.15625 65.921875 28.609375 65.921875 \nQ 23.96875 65.921875 18.8125 64.3125 \nQ 13.671875 62.703125 7.8125 59.421875 \nL 7.8125 69.390625 \nQ 13.765625 71.78125 18.9375 73 \nQ 24.125 74.21875 28.421875 74.21875 \nQ 39.75 74.21875 46.484375 68.546875 \nQ 53.21875 62.890625 53.21875 53.421875 \nQ 53.21875 48.921875 51.53125 44.890625 \nQ 49.859375 40.875 45.40625 35.40625 \nQ 44.1875 33.984375 37.640625 27.21875 \nQ 31.109375 20.453125 19.1875 8.296875 \nz\n\" id=\"DejaVuSans-50\"/>\n     </defs>\n     <g transform=\"translate(559.232697 65.5474)scale(0.08 -0.08)\">\n      <use transform=\"translate(0 0.125)\" xlink:href=\"#DejaVuSans-85\"/>\n      <use transform=\"translate(73.193359 0.125)\" xlink:href=\"#DejaVuSans-49\"/>\n      <use transform=\"translate(136.816406 0.125)\" xlink:href=\"#DejaVuSans-32\"/>\n      <use transform=\"translate(168.603516 0.125)\" xlink:href=\"#DejaVuSans-40\"/>\n      <use transform=\"translate(207.617188 0.125)\" xlink:href=\"#DejaVuSans-8722\"/>\n      <use transform=\"translate(291.40625 0.125)\" xlink:href=\"#DejaVuSans-Oblique-960\"/>\n      <use transform=\"translate(351.611328 0.125)\" xlink:href=\"#DejaVuSans-47\"/>\n      <use transform=\"translate(381.677734 0.125)\" xlink:href=\"#DejaVuSans-50\"/>\n      <use transform=\"translate(445.300781 0.125)\" xlink:href=\"#DejaVuSans-41\"/>\n     </g>\n    </g>\n   </g>\n   <g id=\"text_14\">\n    <g clip-path=\"url(#p5e870b3745)\">\n     <!-- $H$ -->\n     <g transform=\"translate(586.75986 92.598987)scale(0.13 -0.13)\">\n      <use transform=\"translate(0 0.09375)\" xlink:href=\"#DejaVuSans-Oblique-72\"/>\n     </g>\n    </g>\n   </g>\n   <g id=\"text_15\">\n    <g clip-path=\"url(#p5e870b3745)\">\n     <!-- U1 ($-$$\\pi$/4) -->\n     <g transform=\"translate(650.014697 110.9984)scale(0.08 -0.08)\">\n      <use transform=\"translate(0 0.125)\" xlink:href=\"#DejaVuSans-85\"/>\n      <use transform=\"translate(73.193359 0.125)\" xlink:href=\"#DejaVuSans-49\"/>\n      <use transform=\"translate(136.816406 0.125)\" xlink:href=\"#DejaVuSans-32\"/>\n      <use transform=\"translate(168.603516 0.125)\" xlink:href=\"#DejaVuSans-40\"/>\n      <use transform=\"translate(207.617188 0.125)\" xlink:href=\"#DejaVuSans-8722\"/>\n      <use transform=\"translate(291.40625 0.125)\" xlink:href=\"#DejaVuSans-Oblique-960\"/>\n      <use transform=\"translate(351.611328 0.125)\" xlink:href=\"#DejaVuSans-47\"/>\n      <use transform=\"translate(385.302734 0.125)\" xlink:href=\"#DejaVuSans-52\"/>\n      <use transform=\"translate(448.925781 0.125)\" xlink:href=\"#DejaVuSans-41\"/>\n     </g>\n    </g>\n   </g>\n   <g id=\"text_16\">\n    <g clip-path=\"url(#p5e870b3745)\">\n     <!-- U1 ($-$$\\pi$/2) -->\n     <g transform=\"translate(695.585697 110.9984)scale(0.08 -0.08)\">\n      <use transform=\"translate(0 0.125)\" xlink:href=\"#DejaVuSans-85\"/>\n      <use transform=\"translate(73.193359 0.125)\" xlink:href=\"#DejaVuSans-49\"/>\n      <use transform=\"translate(136.816406 0.125)\" xlink:href=\"#DejaVuSans-32\"/>\n      <use transform=\"translate(168.603516 0.125)\" xlink:href=\"#DejaVuSans-40\"/>\n      <use transform=\"translate(207.617188 0.125)\" xlink:href=\"#DejaVuSans-8722\"/>\n      <use transform=\"translate(291.40625 0.125)\" xlink:href=\"#DejaVuSans-Oblique-960\"/>\n      <use transform=\"translate(351.611328 0.125)\" xlink:href=\"#DejaVuSans-47\"/>\n      <use transform=\"translate(381.677734 0.125)\" xlink:href=\"#DejaVuSans-50\"/>\n      <use transform=\"translate(445.300781 0.125)\" xlink:href=\"#DejaVuSans-41\"/>\n     </g>\n    </g>\n   </g>\n   <g id=\"text_17\">\n    <g clip-path=\"url(#p5e870b3745)\">\n     <!-- 0 -->\n     <defs>\n      <path d=\"M 31.78125 66.40625 \nQ 24.171875 66.40625 20.328125 58.90625 \nQ 16.5 51.421875 16.5 36.375 \nQ 16.5 21.390625 20.328125 13.890625 \nQ 24.171875 6.390625 31.78125 6.390625 \nQ 39.453125 6.390625 43.28125 13.890625 \nQ 47.125 21.390625 47.125 36.375 \nQ 47.125 51.421875 43.28125 58.90625 \nQ 39.453125 66.40625 31.78125 66.40625 \nz\nM 31.78125 74.21875 \nQ 44.046875 74.21875 50.515625 64.515625 \nQ 56.984375 54.828125 56.984375 36.375 \nQ 56.984375 17.96875 50.515625 8.265625 \nQ 44.046875 -1.421875 31.78125 -1.421875 \nQ 19.53125 -1.421875 13.0625 8.265625 \nQ 6.59375 17.96875 6.59375 36.375 \nQ 6.59375 54.828125 13.0625 64.515625 \nQ 19.53125 74.21875 31.78125 74.21875 \nz\n\" id=\"DejaVuSans-48\"/>\n     </defs>\n     <g transform=\"translate(739.41561 218.656825)scale(0.104 -0.104)\">\n      <use xlink:href=\"#DejaVuSans-48\"/>\n     </g>\n    </g>\n   </g>\n   <g id=\"text_18\">\n    <g clip-path=\"url(#p5e870b3745)\">\n     <!-- $H$ -->\n     <g transform=\"translate(768.56386 138.049988)scale(0.13 -0.13)\">\n      <use transform=\"translate(0 0.09375)\" xlink:href=\"#DejaVuSans-Oblique-72\"/>\n     </g>\n    </g>\n   </g>\n   <g id=\"text_19\">\n    <g clip-path=\"url(#p5e870b3745)\">\n     <!-- 1 -->\n     <g transform=\"translate(830.31761 218.656825)scale(0.104 -0.104)\">\n      <use xlink:href=\"#DejaVuSans-49\"/>\n     </g>\n    </g>\n   </g>\n   <g id=\"text_20\">\n    <g clip-path=\"url(#p5e870b3745)\">\n     <!-- 2 -->\n     <g transform=\"translate(875.76861 218.656825)scale(0.104 -0.104)\">\n      <use xlink:href=\"#DejaVuSans-50\"/>\n     </g>\n    </g>\n   </g>\n   <g id=\"text_21\">\n    <g clip-path=\"url(#p5e870b3745)\">\n     <!-- ${q}_{0}$ -->\n     <defs>\n      <path d=\"M 41.703125 8.203125 \nQ 38.09375 3.46875 33.171875 1.015625 \nQ 28.265625 -1.421875 22.3125 -1.421875 \nQ 14.015625 -1.421875 9.296875 4.171875 \nQ 4.59375 9.765625 4.59375 19.578125 \nQ 4.59375 27.484375 7.5 34.859375 \nQ 10.40625 42.234375 15.828125 48.09375 \nQ 19.34375 51.90625 23.90625 53.953125 \nQ 28.46875 56 33.5 56 \nQ 39.546875 56 43.453125 53.609375 \nQ 47.359375 51.21875 49.125 46.390625 \nL 50.6875 54.59375 \nL 59.71875 54.59375 \nL 45.125 -20.609375 \nL 36.078125 -20.609375 \nz\nM 13.921875 20.90625 \nQ 13.921875 13.671875 16.9375 9.890625 \nQ 19.96875 6.109375 25.6875 6.109375 \nQ 34.1875 6.109375 40.1875 14.234375 \nQ 46.1875 22.359375 46.1875 33.984375 \nQ 46.1875 41.015625 43.078125 44.75 \nQ 39.984375 48.484375 34.1875 48.484375 \nQ 29.9375 48.484375 26.3125 46.5 \nQ 22.703125 44.53125 20.015625 40.71875 \nQ 17.1875 36.71875 15.546875 31.34375 \nQ 13.921875 25.984375 13.921875 20.90625 \nz\n\" id=\"DejaVuSans-Oblique-113\"/>\n     </defs>\n     <g transform=\"translate(64.61116 48.011777)scale(0.1625 -0.1625)\">\n      <use xlink:href=\"#DejaVuSans-Oblique-113\"/>\n      <use transform=\"translate(63.476562 -16.40625)scale(0.7)\" xlink:href=\"#DejaVuSans-48\"/>\n     </g>\n    </g>\n   </g>\n   <g id=\"text_22\">\n    <g clip-path=\"url(#p5e870b3745)\">\n     <!-- ${q}_{1}$ -->\n     <g transform=\"translate(64.61116 93.462777)scale(0.1625 -0.1625)\">\n      <use xlink:href=\"#DejaVuSans-Oblique-113\"/>\n      <use transform=\"translate(63.476562 -16.40625)scale(0.7)\" xlink:href=\"#DejaVuSans-49\"/>\n     </g>\n    </g>\n   </g>\n   <g id=\"text_23\">\n    <g clip-path=\"url(#p5e870b3745)\">\n     <!-- ${q}_{2}$ -->\n     <g transform=\"translate(64.61116 138.913777)scale(0.1625 -0.1625)\">\n      <use xlink:href=\"#DejaVuSans-Oblique-113\"/>\n      <use transform=\"translate(63.476562 -16.40625)scale(0.7)\" xlink:href=\"#DejaVuSans-50\"/>\n     </g>\n    </g>\n   </g>\n   <g id=\"text_24\">\n    <g clip-path=\"url(#p5e870b3745)\">\n     <!-- ${q}_{3}$ -->\n     <defs>\n      <path d=\"M 40.578125 39.3125 \nQ 47.65625 37.796875 51.625 33 \nQ 55.609375 28.21875 55.609375 21.1875 \nQ 55.609375 10.40625 48.1875 4.484375 \nQ 40.765625 -1.421875 27.09375 -1.421875 \nQ 22.515625 -1.421875 17.65625 -0.515625 \nQ 12.796875 0.390625 7.625 2.203125 \nL 7.625 11.71875 \nQ 11.71875 9.328125 16.59375 8.109375 \nQ 21.484375 6.890625 26.8125 6.890625 \nQ 36.078125 6.890625 40.9375 10.546875 \nQ 45.796875 14.203125 45.796875 21.1875 \nQ 45.796875 27.640625 41.28125 31.265625 \nQ 36.765625 34.90625 28.71875 34.90625 \nL 20.21875 34.90625 \nL 20.21875 43.015625 \nL 29.109375 43.015625 \nQ 36.375 43.015625 40.234375 45.921875 \nQ 44.09375 48.828125 44.09375 54.296875 \nQ 44.09375 59.90625 40.109375 62.90625 \nQ 36.140625 65.921875 28.71875 65.921875 \nQ 24.65625 65.921875 20.015625 65.03125 \nQ 15.375 64.15625 9.8125 62.3125 \nL 9.8125 71.09375 \nQ 15.4375 72.65625 20.34375 73.4375 \nQ 25.25 74.21875 29.59375 74.21875 \nQ 40.828125 74.21875 47.359375 69.109375 \nQ 53.90625 64.015625 53.90625 55.328125 \nQ 53.90625 49.265625 50.4375 45.09375 \nQ 46.96875 40.921875 40.578125 39.3125 \nz\n\" id=\"DejaVuSans-51\"/>\n     </defs>\n     <g transform=\"translate(64.61116 184.364777)scale(0.1625 -0.1625)\">\n      <use xlink:href=\"#DejaVuSans-Oblique-113\"/>\n      <use transform=\"translate(63.476562 -16.40625)scale(0.7)\" xlink:href=\"#DejaVuSans-51\"/>\n     </g>\n    </g>\n   </g>\n   <g id=\"text_25\">\n    <g clip-path=\"url(#p5e870b3745)\">\n     <!-- 3 -->\n     <g transform=\"translate(137.18986 218.656825)scale(0.104 -0.104)\">\n      <use xlink:href=\"#DejaVuSans-51\"/>\n     </g>\n    </g>\n   </g>\n   <g id=\"text_26\">\n    <g clip-path=\"url(#p5e870b3745)\">\n     <!-- $c$ -->\n     <defs>\n      <path d=\"M 53.609375 52.59375 \nL 51.8125 43.703125 \nQ 48.578125 46.046875 44.9375 47.21875 \nQ 41.3125 48.390625 37.40625 48.390625 \nQ 33.109375 48.390625 29.21875 46.875 \nQ 25.34375 45.359375 22.703125 42.578125 \nQ 18.5 38.328125 16.203125 32.609375 \nQ 13.921875 26.90625 13.921875 20.796875 \nQ 13.921875 13.421875 17.609375 9.8125 \nQ 21.296875 6.203125 28.8125 6.203125 \nQ 32.515625 6.203125 36.6875 7.328125 \nQ 40.875 8.453125 45.40625 10.6875 \nL 43.703125 1.8125 \nQ 39.796875 0.203125 35.671875 -0.609375 \nQ 31.546875 -1.421875 27.203125 -1.421875 \nQ 16.3125 -1.421875 10.453125 4.015625 \nQ 4.59375 9.46875 4.59375 19.578125 \nQ 4.59375 28.078125 7.640625 35.234375 \nQ 10.6875 42.390625 16.703125 48.09375 \nQ 20.796875 52 26.3125 54 \nQ 31.84375 56 38.375 56 \nQ 42.1875 56 45.9375 55.140625 \nQ 49.703125 54.296875 53.609375 52.59375 \nz\n\" id=\"DejaVuSans-Oblique-99\"/>\n     </defs>\n     <g transform=\"translate(71.92366 230.745581)scale(0.195 -0.195)\">\n      <use xlink:href=\"#DejaVuSans-Oblique-99\"/>\n     </g>\n    </g>\n   </g>\n  </g>\n </g>\n <defs>\n  <clipPath id=\"p5e870b3745\">\n   <rect height=\"245.4354\" width=\"907.20196\" x=\"7.2\" y=\"7.2\"/>\n  </clipPath>\n </defs>\n</svg>\n"
          },
          "metadata": {
            "tags": []
          },
          "execution_count": 120
        }
      ]
    },
    {
      "cell_type": "code",
      "metadata": {
        "id": "iCEJmAWbFO6W",
        "colab_type": "code",
        "outputId": "cb986950-e10f-41a9-e1af-89a35b3ce38e",
        "colab": {
          "base_uri": "https://localhost:8080/",
          "height": 452
        }
      },
      "source": [
        "backend = Aer.get_backend('qasm_simulator')\n",
        "shots = 4096\n",
        "results = execute(circ, backend=backend, shots=shots).result()\n",
        "answer = results.get_counts()\n",
        "\n",
        "plot_histogram(answer)"
      ],
      "execution_count": 0,
      "outputs": [
        {
          "output_type": "execute_result",
          "data": {
            "text/plain": [
              "<Figure size 504x360 with 1 Axes>"
            ],
            "image/svg+xml": "<?xml version=\"1.0\" encoding=\"utf-8\" standalone=\"no\"?>\n<!DOCTYPE svg PUBLIC \"-//W3C//DTD SVG 1.1//EN\"\n  \"http://www.w3.org/Graphics/SVG/1.1/DTD/svg11.dtd\">\n<!-- Created with matplotlib (https://matplotlib.org/) -->\n<svg height=\"322.945095pt\" version=\"1.1\" viewBox=\"0 0 460.72125 322.945095\" width=\"460.72125pt\" xmlns=\"http://www.w3.org/2000/svg\" xmlns:xlink=\"http://www.w3.org/1999/xlink\">\n <defs>\n  <style type=\"text/css\">\n*{stroke-linecap:butt;stroke-linejoin:round;}\n  </style>\n </defs>\n <g id=\"figure_1\">\n  <g id=\"patch_1\">\n   <path d=\"M 0 322.945095 \nL 460.72125 322.945095 \nL 460.72125 0 \nL 0 0 \nz\n\" style=\"fill:none;\"/>\n  </g>\n  <g id=\"axes_1\">\n   <g id=\"patch_2\">\n    <path d=\"M 62.92125 279 \nL 453.52125 279 \nL 453.52125 7.2 \nL 62.92125 7.2 \nz\n\" style=\"fill:#ffffff;\"/>\n   </g>\n   <g id=\"matplotlib.axis_1\">\n    <g id=\"xtick_1\">\n     <g id=\"line2d_1\">\n      <defs>\n       <path d=\"M 0 0 \nL 0 3.5 \n\" id=\"m45fd3f953e\" style=\"stroke:#000000;stroke-width:0.8;\"/>\n      </defs>\n      <g>\n       <use style=\"stroke:#000000;stroke-width:0.8;\" x=\"258.22125\" xlink:href=\"#m45fd3f953e\" y=\"279\"/>\n      </g>\n     </g>\n     <g id=\"text_1\">\n      <!-- 001 -->\n      <defs>\n       <path d=\"M 31.78125 66.40625 \nQ 24.171875 66.40625 20.328125 58.90625 \nQ 16.5 51.421875 16.5 36.375 \nQ 16.5 21.390625 20.328125 13.890625 \nQ 24.171875 6.390625 31.78125 6.390625 \nQ 39.453125 6.390625 43.28125 13.890625 \nQ 47.125 21.390625 47.125 36.375 \nQ 47.125 51.421875 43.28125 58.90625 \nQ 39.453125 66.40625 31.78125 66.40625 \nz\nM 31.78125 74.21875 \nQ 44.046875 74.21875 50.515625 64.515625 \nQ 56.984375 54.828125 56.984375 36.375 \nQ 56.984375 17.96875 50.515625 8.265625 \nQ 44.046875 -1.421875 31.78125 -1.421875 \nQ 19.53125 -1.421875 13.0625 8.265625 \nQ 6.59375 17.96875 6.59375 36.375 \nQ 6.59375 54.828125 13.0625 64.515625 \nQ 19.53125 74.21875 31.78125 74.21875 \nz\n\" id=\"DejaVuSans-48\"/>\n       <path d=\"M 12.40625 8.296875 \nL 28.515625 8.296875 \nL 28.515625 63.921875 \nL 10.984375 60.40625 \nL 10.984375 69.390625 \nL 28.421875 72.90625 \nL 38.28125 72.90625 \nL 38.28125 8.296875 \nL 54.390625 8.296875 \nL 54.390625 0 \nL 12.40625 0 \nz\n\" id=\"DejaVuSans-49\"/>\n      </defs>\n      <g transform=\"translate(257.281583 314.749282)rotate(-70)scale(0.14 -0.14)\">\n       <use xlink:href=\"#DejaVuSans-48\"/>\n       <use x=\"63.623047\" xlink:href=\"#DejaVuSans-48\"/>\n       <use x=\"127.246094\" xlink:href=\"#DejaVuSans-49\"/>\n      </g>\n     </g>\n    </g>\n   </g>\n   <g id=\"matplotlib.axis_2\">\n    <g id=\"ytick_1\">\n     <g id=\"line2d_2\">\n      <path clip-path=\"url(#p19fc3756c2)\" d=\"M 62.92125 279 \nL 453.52125 279 \n\" style=\"fill:none;stroke:#b0b0b0;stroke-dasharray:2.96,1.28;stroke-dashoffset:0;stroke-width:0.8;\"/>\n     </g>\n     <g id=\"line2d_3\">\n      <defs>\n       <path d=\"M 0 0 \nL -3.5 0 \n\" id=\"mf9fab01991\" style=\"stroke:#000000;stroke-width:0.8;\"/>\n      </defs>\n      <g>\n       <use style=\"stroke:#000000;stroke-width:0.8;\" x=\"62.92125\" xlink:href=\"#mf9fab01991\" y=\"279\"/>\n      </g>\n     </g>\n     <g id=\"text_2\">\n      <!-- 0.00 -->\n      <defs>\n       <path d=\"M 10.6875 12.40625 \nL 21 12.40625 \nL 21 0 \nL 10.6875 0 \nz\n\" id=\"DejaVuSans-46\"/>\n      </defs>\n      <g transform=\"translate(24.749375 284.318906)scale(0.14 -0.14)\">\n       <use xlink:href=\"#DejaVuSans-48\"/>\n       <use x=\"63.623047\" xlink:href=\"#DejaVuSans-46\"/>\n       <use x=\"95.410156\" xlink:href=\"#DejaVuSans-48\"/>\n       <use x=\"159.033203\" xlink:href=\"#DejaVuSans-48\"/>\n      </g>\n     </g>\n    </g>\n    <g id=\"ytick_2\">\n     <g id=\"line2d_4\">\n      <path clip-path=\"url(#p19fc3756c2)\" d=\"M 62.92125 222.375 \nL 453.52125 222.375 \n\" style=\"fill:none;stroke:#b0b0b0;stroke-dasharray:2.96,1.28;stroke-dashoffset:0;stroke-width:0.8;\"/>\n     </g>\n     <g id=\"line2d_5\">\n      <g>\n       <use style=\"stroke:#000000;stroke-width:0.8;\" x=\"62.92125\" xlink:href=\"#mf9fab01991\" y=\"222.375\"/>\n      </g>\n     </g>\n     <g id=\"text_3\">\n      <!-- 0.25 -->\n      <defs>\n       <path d=\"M 19.1875 8.296875 \nL 53.609375 8.296875 \nL 53.609375 0 \nL 7.328125 0 \nL 7.328125 8.296875 \nQ 12.9375 14.109375 22.625 23.890625 \nQ 32.328125 33.6875 34.8125 36.53125 \nQ 39.546875 41.84375 41.421875 45.53125 \nQ 43.3125 49.21875 43.3125 52.78125 \nQ 43.3125 58.59375 39.234375 62.25 \nQ 35.15625 65.921875 28.609375 65.921875 \nQ 23.96875 65.921875 18.8125 64.3125 \nQ 13.671875 62.703125 7.8125 59.421875 \nL 7.8125 69.390625 \nQ 13.765625 71.78125 18.9375 73 \nQ 24.125 74.21875 28.421875 74.21875 \nQ 39.75 74.21875 46.484375 68.546875 \nQ 53.21875 62.890625 53.21875 53.421875 \nQ 53.21875 48.921875 51.53125 44.890625 \nQ 49.859375 40.875 45.40625 35.40625 \nQ 44.1875 33.984375 37.640625 27.21875 \nQ 31.109375 20.453125 19.1875 8.296875 \nz\n\" id=\"DejaVuSans-50\"/>\n       <path d=\"M 10.796875 72.90625 \nL 49.515625 72.90625 \nL 49.515625 64.59375 \nL 19.828125 64.59375 \nL 19.828125 46.734375 \nQ 21.96875 47.46875 24.109375 47.828125 \nQ 26.265625 48.1875 28.421875 48.1875 \nQ 40.625 48.1875 47.75 41.5 \nQ 54.890625 34.8125 54.890625 23.390625 \nQ 54.890625 11.625 47.5625 5.09375 \nQ 40.234375 -1.421875 26.90625 -1.421875 \nQ 22.3125 -1.421875 17.546875 -0.640625 \nQ 12.796875 0.140625 7.71875 1.703125 \nL 7.71875 11.625 \nQ 12.109375 9.234375 16.796875 8.0625 \nQ 21.484375 6.890625 26.703125 6.890625 \nQ 35.15625 6.890625 40.078125 11.328125 \nQ 45.015625 15.765625 45.015625 23.390625 \nQ 45.015625 31 40.078125 35.4375 \nQ 35.15625 39.890625 26.703125 39.890625 \nQ 22.75 39.890625 18.8125 39.015625 \nQ 14.890625 38.140625 10.796875 36.28125 \nz\n\" id=\"DejaVuSans-53\"/>\n      </defs>\n      <g transform=\"translate(24.749375 227.693906)scale(0.14 -0.14)\">\n       <use xlink:href=\"#DejaVuSans-48\"/>\n       <use x=\"63.623047\" xlink:href=\"#DejaVuSans-46\"/>\n       <use x=\"95.410156\" xlink:href=\"#DejaVuSans-50\"/>\n       <use x=\"159.033203\" xlink:href=\"#DejaVuSans-53\"/>\n      </g>\n     </g>\n    </g>\n    <g id=\"ytick_3\">\n     <g id=\"line2d_6\">\n      <path clip-path=\"url(#p19fc3756c2)\" d=\"M 62.92125 165.75 \nL 453.52125 165.75 \n\" style=\"fill:none;stroke:#b0b0b0;stroke-dasharray:2.96,1.28;stroke-dashoffset:0;stroke-width:0.8;\"/>\n     </g>\n     <g id=\"line2d_7\">\n      <g>\n       <use style=\"stroke:#000000;stroke-width:0.8;\" x=\"62.92125\" xlink:href=\"#mf9fab01991\" y=\"165.75\"/>\n      </g>\n     </g>\n     <g id=\"text_4\">\n      <!-- 0.50 -->\n      <g transform=\"translate(24.749375 171.068906)scale(0.14 -0.14)\">\n       <use xlink:href=\"#DejaVuSans-48\"/>\n       <use x=\"63.623047\" xlink:href=\"#DejaVuSans-46\"/>\n       <use x=\"95.410156\" xlink:href=\"#DejaVuSans-53\"/>\n       <use x=\"159.033203\" xlink:href=\"#DejaVuSans-48\"/>\n      </g>\n     </g>\n    </g>\n    <g id=\"ytick_4\">\n     <g id=\"line2d_8\">\n      <path clip-path=\"url(#p19fc3756c2)\" d=\"M 62.92125 109.125 \nL 453.52125 109.125 \n\" style=\"fill:none;stroke:#b0b0b0;stroke-dasharray:2.96,1.28;stroke-dashoffset:0;stroke-width:0.8;\"/>\n     </g>\n     <g id=\"line2d_9\">\n      <g>\n       <use style=\"stroke:#000000;stroke-width:0.8;\" x=\"62.92125\" xlink:href=\"#mf9fab01991\" y=\"109.125\"/>\n      </g>\n     </g>\n     <g id=\"text_5\">\n      <!-- 0.75 -->\n      <defs>\n       <path d=\"M 8.203125 72.90625 \nL 55.078125 72.90625 \nL 55.078125 68.703125 \nL 28.609375 0 \nL 18.3125 0 \nL 43.21875 64.59375 \nL 8.203125 64.59375 \nz\n\" id=\"DejaVuSans-55\"/>\n      </defs>\n      <g transform=\"translate(24.749375 114.443906)scale(0.14 -0.14)\">\n       <use xlink:href=\"#DejaVuSans-48\"/>\n       <use x=\"63.623047\" xlink:href=\"#DejaVuSans-46\"/>\n       <use x=\"95.410156\" xlink:href=\"#DejaVuSans-55\"/>\n       <use x=\"159.033203\" xlink:href=\"#DejaVuSans-53\"/>\n      </g>\n     </g>\n    </g>\n    <g id=\"ytick_5\">\n     <g id=\"line2d_10\">\n      <path clip-path=\"url(#p19fc3756c2)\" d=\"M 62.92125 52.5 \nL 453.52125 52.5 \n\" style=\"fill:none;stroke:#b0b0b0;stroke-dasharray:2.96,1.28;stroke-dashoffset:0;stroke-width:0.8;\"/>\n     </g>\n     <g id=\"line2d_11\">\n      <g>\n       <use style=\"stroke:#000000;stroke-width:0.8;\" x=\"62.92125\" xlink:href=\"#mf9fab01991\" y=\"52.5\"/>\n      </g>\n     </g>\n     <g id=\"text_6\">\n      <!-- 1.00 -->\n      <g transform=\"translate(24.749375 57.818906)scale(0.14 -0.14)\">\n       <use xlink:href=\"#DejaVuSans-49\"/>\n       <use x=\"63.623047\" xlink:href=\"#DejaVuSans-46\"/>\n       <use x=\"95.410156\" xlink:href=\"#DejaVuSans-48\"/>\n       <use x=\"159.033203\" xlink:href=\"#DejaVuSans-48\"/>\n      </g>\n     </g>\n    </g>\n    <g id=\"text_7\">\n     <!-- Probabilities -->\n     <defs>\n      <path d=\"M 19.671875 64.796875 \nL 19.671875 37.40625 \nL 32.078125 37.40625 \nQ 38.96875 37.40625 42.71875 40.96875 \nQ 46.484375 44.53125 46.484375 51.125 \nQ 46.484375 57.671875 42.71875 61.234375 \nQ 38.96875 64.796875 32.078125 64.796875 \nz\nM 9.8125 72.90625 \nL 32.078125 72.90625 \nQ 44.34375 72.90625 50.609375 67.359375 \nQ 56.890625 61.8125 56.890625 51.125 \nQ 56.890625 40.328125 50.609375 34.8125 \nQ 44.34375 29.296875 32.078125 29.296875 \nL 19.671875 29.296875 \nL 19.671875 0 \nL 9.8125 0 \nz\n\" id=\"DejaVuSans-80\"/>\n      <path d=\"M 41.109375 46.296875 \nQ 39.59375 47.171875 37.8125 47.578125 \nQ 36.03125 48 33.890625 48 \nQ 26.265625 48 22.1875 43.046875 \nQ 18.109375 38.09375 18.109375 28.8125 \nL 18.109375 0 \nL 9.078125 0 \nL 9.078125 54.6875 \nL 18.109375 54.6875 \nL 18.109375 46.1875 \nQ 20.953125 51.171875 25.484375 53.578125 \nQ 30.03125 56 36.53125 56 \nQ 37.453125 56 38.578125 55.875 \nQ 39.703125 55.765625 41.0625 55.515625 \nz\n\" id=\"DejaVuSans-114\"/>\n      <path d=\"M 30.609375 48.390625 \nQ 23.390625 48.390625 19.1875 42.75 \nQ 14.984375 37.109375 14.984375 27.296875 \nQ 14.984375 17.484375 19.15625 11.84375 \nQ 23.34375 6.203125 30.609375 6.203125 \nQ 37.796875 6.203125 41.984375 11.859375 \nQ 46.1875 17.53125 46.1875 27.296875 \nQ 46.1875 37.015625 41.984375 42.703125 \nQ 37.796875 48.390625 30.609375 48.390625 \nz\nM 30.609375 56 \nQ 42.328125 56 49.015625 48.375 \nQ 55.71875 40.765625 55.71875 27.296875 \nQ 55.71875 13.875 49.015625 6.21875 \nQ 42.328125 -1.421875 30.609375 -1.421875 \nQ 18.84375 -1.421875 12.171875 6.21875 \nQ 5.515625 13.875 5.515625 27.296875 \nQ 5.515625 40.765625 12.171875 48.375 \nQ 18.84375 56 30.609375 56 \nz\n\" id=\"DejaVuSans-111\"/>\n      <path d=\"M 48.6875 27.296875 \nQ 48.6875 37.203125 44.609375 42.84375 \nQ 40.53125 48.484375 33.40625 48.484375 \nQ 26.265625 48.484375 22.1875 42.84375 \nQ 18.109375 37.203125 18.109375 27.296875 \nQ 18.109375 17.390625 22.1875 11.75 \nQ 26.265625 6.109375 33.40625 6.109375 \nQ 40.53125 6.109375 44.609375 11.75 \nQ 48.6875 17.390625 48.6875 27.296875 \nz\nM 18.109375 46.390625 \nQ 20.953125 51.265625 25.265625 53.625 \nQ 29.59375 56 35.59375 56 \nQ 45.5625 56 51.78125 48.09375 \nQ 58.015625 40.1875 58.015625 27.296875 \nQ 58.015625 14.40625 51.78125 6.484375 \nQ 45.5625 -1.421875 35.59375 -1.421875 \nQ 29.59375 -1.421875 25.265625 0.953125 \nQ 20.953125 3.328125 18.109375 8.203125 \nL 18.109375 0 \nL 9.078125 0 \nL 9.078125 75.984375 \nL 18.109375 75.984375 \nz\n\" id=\"DejaVuSans-98\"/>\n      <path d=\"M 34.28125 27.484375 \nQ 23.390625 27.484375 19.1875 25 \nQ 14.984375 22.515625 14.984375 16.5 \nQ 14.984375 11.71875 18.140625 8.90625 \nQ 21.296875 6.109375 26.703125 6.109375 \nQ 34.1875 6.109375 38.703125 11.40625 \nQ 43.21875 16.703125 43.21875 25.484375 \nL 43.21875 27.484375 \nz\nM 52.203125 31.203125 \nL 52.203125 0 \nL 43.21875 0 \nL 43.21875 8.296875 \nQ 40.140625 3.328125 35.546875 0.953125 \nQ 30.953125 -1.421875 24.3125 -1.421875 \nQ 15.921875 -1.421875 10.953125 3.296875 \nQ 6 8.015625 6 15.921875 \nQ 6 25.140625 12.171875 29.828125 \nQ 18.359375 34.515625 30.609375 34.515625 \nL 43.21875 34.515625 \nL 43.21875 35.40625 \nQ 43.21875 41.609375 39.140625 45 \nQ 35.0625 48.390625 27.6875 48.390625 \nQ 23 48.390625 18.546875 47.265625 \nQ 14.109375 46.140625 10.015625 43.890625 \nL 10.015625 52.203125 \nQ 14.9375 54.109375 19.578125 55.046875 \nQ 24.21875 56 28.609375 56 \nQ 40.484375 56 46.34375 49.84375 \nQ 52.203125 43.703125 52.203125 31.203125 \nz\n\" id=\"DejaVuSans-97\"/>\n      <path d=\"M 9.421875 54.6875 \nL 18.40625 54.6875 \nL 18.40625 0 \nL 9.421875 0 \nz\nM 9.421875 75.984375 \nL 18.40625 75.984375 \nL 18.40625 64.59375 \nL 9.421875 64.59375 \nz\n\" id=\"DejaVuSans-105\"/>\n      <path d=\"M 9.421875 75.984375 \nL 18.40625 75.984375 \nL 18.40625 0 \nL 9.421875 0 \nz\n\" id=\"DejaVuSans-108\"/>\n      <path d=\"M 18.3125 70.21875 \nL 18.3125 54.6875 \nL 36.8125 54.6875 \nL 36.8125 47.703125 \nL 18.3125 47.703125 \nL 18.3125 18.015625 \nQ 18.3125 11.328125 20.140625 9.421875 \nQ 21.96875 7.515625 27.59375 7.515625 \nL 36.8125 7.515625 \nL 36.8125 0 \nL 27.59375 0 \nQ 17.1875 0 13.234375 3.875 \nQ 9.28125 7.765625 9.28125 18.015625 \nL 9.28125 47.703125 \nL 2.6875 47.703125 \nL 2.6875 54.6875 \nL 9.28125 54.6875 \nL 9.28125 70.21875 \nz\n\" id=\"DejaVuSans-116\"/>\n      <path d=\"M 56.203125 29.59375 \nL 56.203125 25.203125 \nL 14.890625 25.203125 \nQ 15.484375 15.921875 20.484375 11.0625 \nQ 25.484375 6.203125 34.421875 6.203125 \nQ 39.59375 6.203125 44.453125 7.46875 \nQ 49.3125 8.734375 54.109375 11.28125 \nL 54.109375 2.78125 \nQ 49.265625 0.734375 44.1875 -0.34375 \nQ 39.109375 -1.421875 33.890625 -1.421875 \nQ 20.796875 -1.421875 13.15625 6.1875 \nQ 5.515625 13.8125 5.515625 26.8125 \nQ 5.515625 40.234375 12.765625 48.109375 \nQ 20.015625 56 32.328125 56 \nQ 43.359375 56 49.78125 48.890625 \nQ 56.203125 41.796875 56.203125 29.59375 \nz\nM 47.21875 32.234375 \nQ 47.125 39.59375 43.09375 43.984375 \nQ 39.0625 48.390625 32.421875 48.390625 \nQ 24.90625 48.390625 20.390625 44.140625 \nQ 15.875 39.890625 15.1875 32.171875 \nz\n\" id=\"DejaVuSans-101\"/>\n      <path d=\"M 44.28125 53.078125 \nL 44.28125 44.578125 \nQ 40.484375 46.53125 36.375 47.5 \nQ 32.28125 48.484375 27.875 48.484375 \nQ 21.1875 48.484375 17.84375 46.4375 \nQ 14.5 44.390625 14.5 40.28125 \nQ 14.5 37.15625 16.890625 35.375 \nQ 19.28125 33.59375 26.515625 31.984375 \nL 29.59375 31.296875 \nQ 39.15625 29.25 43.1875 25.515625 \nQ 47.21875 21.78125 47.21875 15.09375 \nQ 47.21875 7.46875 41.1875 3.015625 \nQ 35.15625 -1.421875 24.609375 -1.421875 \nQ 20.21875 -1.421875 15.453125 -0.5625 \nQ 10.6875 0.296875 5.421875 2 \nL 5.421875 11.28125 \nQ 10.40625 8.6875 15.234375 7.390625 \nQ 20.0625 6.109375 24.8125 6.109375 \nQ 31.15625 6.109375 34.5625 8.28125 \nQ 37.984375 10.453125 37.984375 14.40625 \nQ 37.984375 18.0625 35.515625 20.015625 \nQ 33.0625 21.96875 24.703125 23.78125 \nL 21.578125 24.515625 \nQ 13.234375 26.265625 9.515625 29.90625 \nQ 5.8125 33.546875 5.8125 39.890625 \nQ 5.8125 47.609375 11.28125 51.796875 \nQ 16.75 56 26.8125 56 \nQ 31.78125 56 36.171875 55.265625 \nQ 40.578125 54.546875 44.28125 53.078125 \nz\n\" id=\"DejaVuSans-115\"/>\n     </defs>\n     <g transform=\"translate(17.837813 185.855781)rotate(-90)scale(0.14 -0.14)\">\n      <use xlink:href=\"#DejaVuSans-80\"/>\n      <use x=\"58.552734\" xlink:href=\"#DejaVuSans-114\"/>\n      <use x=\"97.416016\" xlink:href=\"#DejaVuSans-111\"/>\n      <use x=\"158.597656\" xlink:href=\"#DejaVuSans-98\"/>\n      <use x=\"222.074219\" xlink:href=\"#DejaVuSans-97\"/>\n      <use x=\"283.353516\" xlink:href=\"#DejaVuSans-98\"/>\n      <use x=\"346.830078\" xlink:href=\"#DejaVuSans-105\"/>\n      <use x=\"374.613281\" xlink:href=\"#DejaVuSans-108\"/>\n      <use x=\"402.396484\" xlink:href=\"#DejaVuSans-105\"/>\n      <use x=\"430.179688\" xlink:href=\"#DejaVuSans-116\"/>\n      <use x=\"469.388672\" xlink:href=\"#DejaVuSans-105\"/>\n      <use x=\"497.171875\" xlink:href=\"#DejaVuSans-101\"/>\n      <use x=\"558.695312\" xlink:href=\"#DejaVuSans-115\"/>\n     </g>\n    </g>\n   </g>\n   <g id=\"patch_3\">\n    <path clip-path=\"url(#p19fc3756c2)\" d=\"M 80.675795 279 \nL 435.766705 279 \nL 435.766705 52.5 \nL 80.675795 52.5 \nz\n\" style=\"fill:#648fff;\"/>\n   </g>\n   <g id=\"patch_4\">\n    <path d=\"M 62.92125 279 \nL 62.92125 7.2 \n\" style=\"fill:none;stroke:#000000;stroke-linecap:square;stroke-linejoin:miter;stroke-width:0.8;\"/>\n   </g>\n   <g id=\"patch_5\">\n    <path d=\"M 453.52125 279 \nL 453.52125 7.2 \n\" style=\"fill:none;stroke:#000000;stroke-linecap:square;stroke-linejoin:miter;stroke-width:0.8;\"/>\n   </g>\n   <g id=\"patch_6\">\n    <path d=\"M 62.92125 279 \nL 453.52125 279 \n\" style=\"fill:none;stroke:#000000;stroke-linecap:square;stroke-linejoin:miter;stroke-width:0.8;\"/>\n   </g>\n   <g id=\"patch_7\">\n    <path d=\"M 62.92125 7.2 \nL 453.52125 7.2 \n\" style=\"fill:none;stroke:#000000;stroke-linecap:square;stroke-linejoin:miter;stroke-width:0.8;\"/>\n   </g>\n   <g id=\"text_8\">\n    <!-- 1.000 -->\n    <g transform=\"translate(243.907187 39.095312)scale(0.1 -0.1)\">\n     <use xlink:href=\"#DejaVuSans-49\"/>\n     <use x=\"63.623047\" xlink:href=\"#DejaVuSans-46\"/>\n     <use x=\"95.410156\" xlink:href=\"#DejaVuSans-48\"/>\n     <use x=\"159.033203\" xlink:href=\"#DejaVuSans-48\"/>\n     <use x=\"222.65625\" xlink:href=\"#DejaVuSans-48\"/>\n    </g>\n   </g>\n  </g>\n </g>\n <defs>\n  <clipPath id=\"p19fc3756c2\">\n   <rect height=\"271.8\" width=\"390.6\" x=\"62.92125\" y=\"7.2\"/>\n  </clipPath>\n </defs>\n</svg>\n"
          },
          "metadata": {
            "tags": []
          },
          "execution_count": 121
        }
      ]
    },
    {
      "cell_type": "markdown",
      "metadata": {
        "id": "43p6JgoAVPPX",
        "colab_type": "text"
      },
      "source": [
        "As we see above the answer is correct for T-gate"
      ]
    }
  ]
}