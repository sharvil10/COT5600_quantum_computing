{
  "nbformat": 4,
  "nbformat_minor": 0,
  "metadata": {
    "colab": {
      "name": "HW4.ipynb",
      "provenance": [],
      "collapsed_sections": [],
      "include_colab_link": true
    },
    "kernelspec": {
      "name": "python3",
      "display_name": "Python 3"
    }
  },
  "cells": [
    {
      "cell_type": "markdown",
      "metadata": {
        "id": "view-in-github",
        "colab_type": "text"
      },
      "source": [
        "<a href=\"https://colab.research.google.com/github/sharvil10/COT5600_quantum_computing/blob/master/HW4.ipynb\" target=\"_parent\"><img src=\"https://colab.research.google.com/assets/colab-badge.svg\" alt=\"Open In Colab\"/></a>"
      ]
    },
    {
      "cell_type": "markdown",
      "metadata": {
        "id": "wf2A1lXe6JFT",
        "colab_type": "text"
      },
      "source": [
        "## HW 4"
      ]
    },
    {
      "cell_type": "markdown",
      "metadata": {
        "id": "hqRx6Utk6O2i",
        "colab_type": "text"
      },
      "source": [
        "### Problem 1 "
      ]
    },
    {
      "cell_type": "markdown",
      "metadata": {
        "id": "CAw2poAb6rci",
        "colab_type": "text"
      },
      "source": [
        "Implement Floyd's collision detection algorithm to find collisions.  It is OK if you look up the code for this on the internet.  Check out the wikipedia page [https://en.wikipedia.org/wiki/Cycle_detection](https://en.wikipedia.org/wiki/Cycle_detection).  "
      ]
    },
    {
      "cell_type": "code",
      "metadata": {
        "id": "s_JalCZ16_9G",
        "colab_type": "code",
        "colab": {}
      },
      "source": [
        "import random\n",
        "import math"
      ],
      "execution_count": 0,
      "outputs": []
    },
    {
      "cell_type": "code",
      "metadata": {
        "id": "OQC8WN-jr1Rw",
        "colab_type": "code",
        "colab": {}
      },
      "source": [
        "def floyd(f, x_init):\n",
        "  x = f(x_init)\n",
        "  y = f(f(x_init))\n",
        "  while x != y:\n",
        "    x = f(x)\n",
        "    y = f(f(y))\n",
        "\n",
        "  lam = 1\n",
        "  y = f(x)\n",
        "  while x != y:\n",
        "      y = f(y)\n",
        "      lam += 1\n",
        "\n",
        "  return lam"
      ],
      "execution_count": 0,
      "outputs": []
    },
    {
      "cell_type": "markdown",
      "metadata": {
        "id": "YGvKfv8Q6_La",
        "colab_type": "text"
      },
      "source": [
        "### Problem 2"
      ]
    },
    {
      "cell_type": "code",
      "metadata": {
        "id": "I3930qUK7Z_i",
        "colab_type": "code",
        "colab": {}
      },
      "source": [
        "# implement the function find_order\n",
        "\n",
        "def find_order(a, N):\n",
        "    def f(x):\n",
        "      return (a ** x) % N #For this problem we're supposed to use f(x) = a^x mod N\n",
        "    r = floyd(f, 2) #Find period of the given function with initializing x as 2. Note that N is used in f(x). \n",
        "    return r"
      ],
      "execution_count": 0,
      "outputs": []
    },
    {
      "cell_type": "markdown",
      "metadata": {
        "id": "b237qgr27rxx",
        "colab_type": "text"
      },
      "source": [
        "### Problem 3"
      ]
    },
    {
      "cell_type": "code",
      "metadata": {
        "id": "ZObTYzc-7toX",
        "colab_type": "code",
        "colab": {}
      },
      "source": [
        "# implement the function factor\n",
        "def factor(N):\n",
        "    while True:\n",
        "      a = random.randint(2, N-1)\n",
        "      g = math.gcd(a, N)\n",
        "      if g != 1:#Randomly chosen number itself is the factor. We don't have to process that.\n",
        "        return g\n",
        "      r = find_order(a, N)#Find the order\n",
        "      if (r % 2) == 1:#If odd rerun with new \"a\"\n",
        "        continue\n",
        "      f = math.gcd(a**(r//2 - 1), N)\n",
        "      if (f == 1) or (f == N):#If trivial solution go back pick another a\n",
        "        continue\n",
        "    return f"
      ],
      "execution_count": 0,
      "outputs": []
    },
    {
      "cell_type": "code",
      "metadata": {
        "id": "s2kEiLrK7FEa",
        "colab_type": "code",
        "outputId": "cfd90583-4f5e-4e8f-c9be-ac656b0bdea8",
        "colab": {
          "base_uri": "https://localhost:8080/",
          "height": 34
        }
      },
      "source": [
        "print(factor(125)) #Should always give 5 "
      ],
      "execution_count": 0,
      "outputs": [
        {
          "output_type": "stream",
          "text": [
            "5\n"
          ],
          "name": "stdout"
        }
      ]
    },
    {
      "cell_type": "markdown",
      "metadata": {
        "id": "yVU0eI-5FeZb",
        "colab_type": "text"
      },
      "source": [
        "We will test the above function by generating random numbers and check if the output factor is actually a factor of the input number or not. We will do 100 such trials. As there's an assert function it should exit when the output is incorrect."
      ]
    },
    {
      "cell_type": "code",
      "metadata": {
        "id": "xB1SvIz47IMf",
        "colab_type": "code",
        "outputId": "c6ab106b-dd5a-4754-af62-7af0ffad4ac8",
        "colab": {
          "base_uri": "https://localhost:8080/",
          "height": 1000
        }
      },
      "source": [
        "from sympy import isprime\n",
        "cnt = 0\n",
        "#Create 10 random numbers to factorize to test the module\n",
        "while cnt < 100:\n",
        "  N = random.randint(4, 10000)\n",
        "  if isprime(N):#prime number will cause infinite loops\n",
        "    continue\n",
        "  cnt += 1\n",
        "  f = factor(N)\n",
        "  assert N % f == 0, '{} is not a factor of {}'.format(f, N)\n",
        "  print(\"Output factor for {} is {}\".format(N, f))"
      ],
      "execution_count": 0,
      "outputs": [
        {
          "output_type": "stream",
          "text": [
            "Output factor for 1323 is 7\n",
            "Output factor for 3478 is 2\n",
            "Output factor for 8464 is 2\n",
            "Output factor for 4738 is 23\n",
            "Output factor for 1745 is 5\n",
            "Output factor for 3587 is 17\n",
            "Output factor for 8721 is 3\n",
            "Output factor for 3575 is 13\n",
            "Output factor for 7736 is 2\n",
            "Output factor for 512 is 2\n",
            "Output factor for 1185 is 3\n",
            "Output factor for 4209 is 23\n",
            "Output factor for 3824 is 2\n",
            "Output factor for 6258 is 21\n",
            "Output factor for 3591 is 9\n",
            "Output factor for 8518 is 2\n",
            "Output factor for 1983 is 3\n",
            "Output factor for 5809 is 37\n",
            "Output factor for 1885 is 5\n",
            "Output factor for 1968 is 3\n",
            "Output factor for 3029 is 13\n",
            "Output factor for 3948 is 3\n",
            "Output factor for 5270 is 10\n",
            "Output factor for 362 is 2\n",
            "Output factor for 7052 is 4\n",
            "Output factor for 4442 is 2\n",
            "Output factor for 1133 is 11\n",
            "Output factor for 4715 is 5\n",
            "Output factor for 1655 is 5\n",
            "Output factor for 8836 is 4\n",
            "Output factor for 921 is 3\n",
            "Output factor for 148 is 4\n",
            "Output factor for 2055 is 3\n",
            "Output factor for 8601 is 3\n",
            "Output factor for 7042 is 2\n",
            "Output factor for 3880 is 2\n",
            "Output factor for 4069 is 13\n",
            "Output factor for 1643 is 31\n",
            "Output factor for 8889 is 3\n",
            "Output factor for 3087 is 21\n",
            "Output factor for 3437 is 7\n",
            "Output factor for 2322 is 2\n",
            "Output factor for 4478 is 2\n",
            "Output factor for 4829 is 11\n",
            "Output factor for 7352 is 8\n",
            "Output factor for 1660 is 4\n",
            "Output factor for 4156 is 4\n",
            "Output factor for 3432 is 11\n",
            "Output factor for 6756 is 2\n",
            "Output factor for 1064 is 2\n",
            "Output factor for 1736 is 2\n",
            "Output factor for 8027 is 23\n",
            "Output factor for 8044 is 4\n",
            "Output factor for 4632 is 3\n",
            "Output factor for 1227 is 3\n",
            "Output factor for 4037 is 11\n",
            "Output factor for 9868 is 4\n",
            "Output factor for 868 is 2\n",
            "Output factor for 5421 is 3\n",
            "Output factor for 494 is 2\n",
            "Output factor for 50 is 2\n",
            "Output factor for 7010 is 5\n",
            "Output factor for 8238 is 2\n",
            "Output factor for 1491 is 3\n",
            "Output factor for 6809 is 11\n",
            "Output factor for 9567 is 3\n",
            "Output factor for 3848 is 2\n",
            "Output factor for 4353 is 3\n",
            "Output factor for 9627 is 3\n",
            "Output factor for 3419 is 13\n",
            "Output factor for 8797 is 19\n",
            "Output factor for 4400 is 4\n",
            "Output factor for 3979 is 23\n",
            "Output factor for 3057 is 3\n",
            "Output factor for 3807 is 1269\n",
            "Output factor for 5406 is 6\n",
            "Output factor for 2622 is 6\n",
            "Output factor for 1079 is 13\n",
            "Output factor for 154 is 2\n",
            "Output factor for 289 is 17\n",
            "Output factor for 1090 is 2\n",
            "Output factor for 4268 is 4\n",
            "Output factor for 6767 is 67\n",
            "Output factor for 7168 is 16\n",
            "Output factor for 9762 is 6\n",
            "Output factor for 5366 is 2\n",
            "Output factor for 724 is 2\n",
            "Output factor for 526 is 2\n",
            "Output factor for 1243 is 11\n",
            "Output factor for 6804 is 21\n",
            "Output factor for 4375 is 5\n",
            "Output factor for 6988 is 2\n",
            "Output factor for 1147 is 31\n",
            "Output factor for 528 is 3\n",
            "Output factor for 8267 is 7\n",
            "Output factor for 7726 is 2\n",
            "Output factor for 9226 is 14\n",
            "Output factor for 4505 is 5\n",
            "Output factor for 795 is 3\n",
            "Output factor for 9383 is 11\n"
          ],
          "name": "stdout"
        }
      ]
    },
    {
      "cell_type": "code",
      "metadata": {
        "id": "Tr1l5CNAEkin",
        "colab_type": "code",
        "colab": {}
      },
      "source": [
        ""
      ],
      "execution_count": 0,
      "outputs": []
    }
  ]
}