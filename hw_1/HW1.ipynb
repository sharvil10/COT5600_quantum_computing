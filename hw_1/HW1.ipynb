{
  "nbformat": 4,
  "nbformat_minor": 0,
  "metadata": {
    "colab": {
      "name": "HW1.ipynb",
      "provenance": [],
      "collapsed_sections": []
    },
    "kernelspec": {
      "name": "python3",
      "display_name": "Python 3"
    }
  },
  "cells": [
    {
      "cell_type": "code",
      "metadata": {
        "id": "J0-7QgY4Denc",
        "colab_type": "code",
        "colab": {}
      },
      "source": [
        "import numpy as np\n",
        "from scipy.linalg import null_space\n",
        "import numpy.random as npr"
      ],
      "execution_count": 0,
      "outputs": []
    },
    {
      "cell_type": "code",
      "metadata": {
        "id": "aW2T2uMxWmpl",
        "colab_type": "code",
        "colab": {}
      },
      "source": [
        "def test_annh(M, coeffs):\n",
        "  if coeffs.size == 0:\n",
        "    return\n",
        "  mult = np.eye(M.shape[0])\n",
        "  sum = 0\n",
        "  for i in range(len(coeffs)):\n",
        "    sum += coeffs[i, 0] * mult\n",
        "    mult = np.matmul(M, mult)\n",
        "  return np.allclose(sum, 0)"
      ],
      "execution_count": 0,
      "outputs": []
    },
    {
      "cell_type": "code",
      "metadata": {
        "id": "cPbNWQDyDkh1",
        "colab_type": "code",
        "colab": {}
      },
      "source": [
        "def annihilate_min_deg_poly(M):\n",
        "  n = M.shape[0]\n",
        "  A = np.empty((n*n, 1))\n",
        "  A[:, 0] = np.eye(n).ravel()\n",
        "  M_curr = np.eye(n)\n",
        "  for i in range(1, n+1):\n",
        "    M_curr = np.matmul(M_curr, M)\n",
        "    A = np.hstack((A, np.ravel(M_curr)[:, None]))\n",
        "    coeffs = null_space(A)\n",
        "    if test_annh(M, coeffs):\n",
        "      return coeffs"
      ],
      "execution_count": 0,
      "outputs": []
    },
    {
      "cell_type": "code",
      "metadata": {
        "id": "az-FF3CKMy4m",
        "colab_type": "code",
        "colab": {
          "base_uri": "https://localhost:8080/",
          "height": 85
        },
        "outputId": "35cc9330-7cff-45eb-8b2e-33fefa15f854"
      },
      "source": [
        "Ex = np.array([[0,1,0], [1,0,0], [0,0,1]])\n",
        "coeffs = annihilate_min_deg_poly(Ex)\n",
        "print('Degree of minimal polynomial is {}'.format(len(coeffs) - 1))\n",
        "print(coeffs)"
      ],
      "execution_count": 85,
      "outputs": [
        {
          "output_type": "stream",
          "text": [
            "Degree of minimal polynomial is 2\n",
            "[[ 7.07106781e-01]\n",
            " [-1.11022302e-16]\n",
            " [-7.07106781e-01]]\n"
          ],
          "name": "stdout"
        }
      ]
    },
    {
      "cell_type": "code",
      "metadata": {
        "id": "S3UUCDbMU9vs",
        "colab_type": "code",
        "colab": {}
      },
      "source": [
        ""
      ],
      "execution_count": 0,
      "outputs": []
    }
  ]
}