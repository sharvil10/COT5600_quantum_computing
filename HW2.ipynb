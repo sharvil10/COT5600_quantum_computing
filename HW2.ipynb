{
  "nbformat": 4,
  "nbformat_minor": 0,
  "metadata": {
    "colab": {
      "name": "HW2.ipynb",
      "provenance": [],
      "collapsed_sections": [],
      "authorship_tag": "ABX9TyND7Ksyvv7XpygUD6lMDoEz",
      "include_colab_link": true
    },
    "kernelspec": {
      "name": "python3",
      "display_name": "Python 3"
    }
  },
  "cells": [
    {
      "cell_type": "markdown",
      "metadata": {
        "id": "view-in-github",
        "colab_type": "text"
      },
      "source": [
        "<a href=\"https://colab.research.google.com/github/sharvil10/COT5600_quantum_computing/blob/master/HW2.ipynb\" target=\"_parent\"><img src=\"https://colab.research.google.com/assets/colab-badge.svg\" alt=\"Open In Colab\"/></a>"
      ]
    },
    {
      "cell_type": "code",
      "metadata": {
        "id": "yLcn2Le9Roy3",
        "colab_type": "code",
        "colab": {}
      },
      "source": [
        "import numpy as np"
      ],
      "execution_count": 0,
      "outputs": []
    },
    {
      "cell_type": "code",
      "metadata": {
        "id": "vkPSidpdKIF4",
        "colab_type": "code",
        "colab": {}
      },
      "source": [
        "def get_register(set_bit, m = 1):\n",
        "  \"\"\"\n",
        "  Returns the m-qbit register\n",
        "   \n",
        "  Parameters\n",
        "  ----------\n",
        "  set_bit : int or list of int\n",
        "      An integer or list of integers representing the bit(s) to be set\n",
        "  m : Number of qbits\n",
        "  \n",
        "  Returns\n",
        "  -------\n",
        "  np.ndarray\n",
        "      The register array as 1s and 0s.\n",
        "  \"\"\"\n",
        "  dim = 2 ** m\n",
        "  register = np.zeros((dim, 1))\n",
        "  register[set_bit] = 1.0\n",
        "  return register"
      ],
      "execution_count": 0,
      "outputs": []
    },
    {
      "cell_type": "markdown",
      "metadata": {
        "id": "W8-ObiuDnvAN",
        "colab_type": "text"
      },
      "source": [
        "##Controlled U-gate\n",
        "![Image Not Found](https://upload.wikimedia.org/wikipedia/commons/thumb/d/dc/Controlled_gate.svg/320px-Controlled_gate.svg.png)\n",
        "\n",
        "####\"get_controlled_U_gate\" returns the matrix used to represent controlled U-gate. The function operates on a m-bit register as input and a control bit.\n",
        "##The transformation matrix is given as follows:\n",
        "\n",
        "T = $|0><0| \\otimes I_{2^m} + |1><1| \\otimes U$\n",
        "\n",
        "where U is the matrix representing the actual transformation to be applied if control gate is on."
      ]
    },
    {
      "cell_type": "code",
      "metadata": {
        "id": "Q0wXsKCaSKg1",
        "colab_type": "code",
        "colab": {}
      },
      "source": [
        "def get_controlled_U_gate(U, m = 1):\n",
        "  \"\"\"\n",
        "  Returns the transformation matrix of controlled-U gate based on the \n",
        "  U matrix transformation.\n",
        "   \n",
        "  Parameters\n",
        "  ----------\n",
        "  U : numpy.ndarray\n",
        "      A unitary matrix describing the transformation.\n",
        "  \n",
        "  Returns\n",
        "  -------\n",
        "  np.ndarray\n",
        "      A matrix describing the gate-transformation matrix.\n",
        "  \"\"\"\n",
        "  dim = 2 ** m\n",
        "\n",
        "  Im = np.eye(dim) #Identity matrix\n",
        "\n",
        "  #Constants\n",
        "  #0-bit in C^m\n",
        "  zero_bit = get_register(set_bit = 0, m = 1)\n",
        "  #1-bit in C^m\n",
        "  one_bit =  get_register(set_bit = 1, m = 1)\n",
        "\n",
        "  mat1 = zero_bit @ zero_bit.T #@ is numpy's Matrix multiplication operator\n",
        "  mat2 = one_bit @ one_bit.T\n",
        "  \n",
        "  return np.kron(mat1, Im) + np.kron(mat2, U)\n",
        "\n",
        "def apply_U_gate(cbit, qbit, T):\n",
        "  \"\"\"\n",
        "  Applies the controlled U gate on qbit based on the value of cbit.\n",
        "   \n",
        "  Parameters\n",
        "  ----------\n",
        "  cbit : numpy.ndarray\n",
        "      A vector of shape 2x1 describing the control bit.\n",
        "  qbit : numpy.ndarray\n",
        "      A vector describing the input q-bit.\n",
        "  T : numpy.ndarray\n",
        "      Transformation matrix of the controlled U gate.\n",
        "  \n",
        "  Returns\n",
        "  -------\n",
        "  np.ndarray\n",
        "      A (2^m)x1 vector describing the output.\n",
        "  \"\"\"\n",
        "\n",
        "  combined_bit = np.kron(cbit, qbit)\n",
        "  return T @ combined_bit"
      ],
      "execution_count": 0,
      "outputs": []
    },
    {
      "cell_type": "markdown",
      "metadata": {
        "id": "9ikVLUayt2E1",
        "colab_type": "text"
      },
      "source": [
        "##Controlled U-gate test\n",
        "If we want to make controlled NOT gate from a controlled U-gate we can set\n",
        "\n",
        "U $= \\begin{bmatrix}\n",
        "0 & 1\\\\\n",
        "1 & 0\\\\\n",
        "\\end{bmatrix}$.\n",
        "Below the code will set the U as NOT-gate and will show output for each control bit and qbit. The output represents state as $|c> \\otimes$ $|c \\oplus t>$\n",
        "\n",
        "For example for qbit 0 and control bit 1 the output state should be \n",
        "\n",
        "$\\psi$ $= |1> \\otimes |1> = \\begin{bmatrix}\n",
        "0\\\\\n",
        "0\\\\\n",
        "0\\\\\n",
        "1\\\\\n",
        "\\end{bmatrix}$."
      ]
    },
    {
      "cell_type": "code",
      "metadata": {
        "id": "XhWMsYr0b838",
        "colab_type": "code",
        "colab": {
          "base_uri": "https://localhost:8080/",
          "height": 408
        },
        "outputId": "65014ee2-3e3c-458a-a795-f50cef89189f"
      },
      "source": [
        "U = np.eye(2)[:, ::-1]\n",
        "print('U matrix is: ')\n",
        "print(U)\n",
        "for j in range(2):\n",
        "  for i in range(2):\n",
        "    qb = get_register(set_bit=i)\n",
        "    ctrl = get_register(set_bit=j)\n",
        "    trans = get_controlled_U_gate(U)\n",
        "    out = apply_U_gate(ctrl, qb, trans)\n",
        "    print('Q-bit is {}, Control-bit is {}. The output state is'.format(i, j))\n",
        "    print(out)"
      ],
      "execution_count": 51,
      "outputs": [
        {
          "output_type": "stream",
          "text": [
            "U matrix is: \n",
            "[[0. 1.]\n",
            " [1. 0.]]\n",
            "Q-bit is 0, Control-bit is 0. The output state is\n",
            "[[1.]\n",
            " [0.]\n",
            " [0.]\n",
            " [0.]]\n",
            "Q-bit is 1, Control-bit is 0. The output state is\n",
            "[[0.]\n",
            " [1.]\n",
            " [0.]\n",
            " [0.]]\n",
            "Q-bit is 0, Control-bit is 1. The output state is\n",
            "[[0.]\n",
            " [0.]\n",
            " [0.]\n",
            " [1.]]\n",
            "Q-bit is 1, Control-bit is 1. The output state is\n",
            "[[0.]\n",
            " [0.]\n",
            " [1.]\n",
            " [0.]]\n"
          ],
          "name": "stdout"
        }
      ]
    },
    {
      "cell_type": "markdown",
      "metadata": {
        "id": "721-4gUJ24TH",
        "colab_type": "text"
      },
      "source": [
        "#Hadamard matrix:\n",
        "\n",
        "H = $\\frac{1}{\\sqrt{2}} \\begin{bmatrix}\n",
        "1 & 1\\\\\n",
        "1 & -1\\\\\n",
        "\\end{bmatrix}$."
      ]
    },
    {
      "cell_type": "code",
      "metadata": {
        "id": "DAZtxdgYcyKv",
        "colab_type": "code",
        "colab": {}
      },
      "source": [
        "def get_hadamard_trans():\n",
        "  \"\"\"\n",
        "  Parameters\n",
        "  ----------\n",
        "\n",
        "\n",
        "  Returns\n",
        "  -------\n",
        "  np.ndarray\n",
        "      Hadamard matrix\n",
        "  \"\"\"\n",
        "  H = np.ones((2,2), dtype = np.float)\n",
        "  H[1, 1] = -1\n",
        "  H /= np.sqrt(2)\n",
        "  return H"
      ],
      "execution_count": 0,
      "outputs": []
    },
    {
      "cell_type": "markdown",
      "metadata": {
        "id": "S5kTC5sH4M5t",
        "colab_type": "text"
      },
      "source": [
        "##Single-qubit gate U on first qubit"
      ]
    },
    {
      "cell_type": "code",
      "metadata": {
        "id": "vm8RS_Cr4Jgx",
        "colab_type": "code",
        "colab": {}
      },
      "source": [
        "def get_first_bit_transformation(U, m = 1):\n",
        "  dim = 2 ** m\n",
        "  return np.kron(U, np.eye(dim))"
      ],
      "execution_count": 0,
      "outputs": []
    },
    {
      "cell_type": "markdown",
      "metadata": {
        "id": "1B5kjLms6ldg",
        "colab_type": "text"
      },
      "source": [
        "##Hadamard-Test\n",
        "![alt text](https://upload.wikimedia.org/wikipedia/commons/thumb/f/f2/Hadamard_test_measure_real.png/320px-Hadamard_test_measure_real.png)\n",
        "\n",
        "As shown in the figure Steps to perform hadamard test are listed below.\n",
        "\n",
        "\n",
        "1.   Apply Hadamard transformatin to only the first qbit.\n",
        "2.   Apply Controlled-U gate. U is the input here which will be based on $\\theta$\n",
        "3.   Apply Hadamard transformation to only the first qbit.\n",
        "4.   Measure the probability.\n",
        "\n",
        "Note that below function applies Only Steps 1-3."
      ]
    },
    {
      "cell_type": "code",
      "metadata": {
        "id": "zenZ2lCbt9Yk",
        "colab_type": "code",
        "colab": {}
      },
      "source": [
        "def apply_hadamard_test(qbit, H, U, m = 1):\n",
        "  T = get_controlled_U_gate(U, m)\n",
        "  zero_bit = get_register(set_bit = 0, m = 1) #0-bit in C^2\n",
        "  zero_trans = H @ zero_bit #Apply H matrix on zero-qbit\n",
        "  combined_state = apply_U_gate(zero_trans, qbit, T)\n",
        "  \n",
        "  T2 = get_first_bit_transformation(H, m) #Get transformation to apply only on the first-bit\n",
        "  #print(T2.shape, combined_state.shape)\n",
        "  return T2 @ combined_state"
      ],
      "execution_count": 0,
      "outputs": []
    },
    {
      "cell_type": "markdown",
      "metadata": {
        "id": "OdmVrH20CXOE",
        "colab_type": "text"
      },
      "source": [
        "##For given $\\theta$ the rotation matrix is:\n",
        "\n",
        "U = $\\begin{bmatrix}\n",
        "cos(\\theta) & -sin(\\theta)\\\\\n",
        "sin(\\theta) & cos(\\theta)\\\\\n",
        "\\end{bmatrix}$ where $\\theta\\in[0, 2\\pi\\theta)$"
      ]
    },
    {
      "cell_type": "code",
      "metadata": {
        "id": "8BnekXvLwyiG",
        "colab_type": "code",
        "colab": {}
      },
      "source": [
        "def get_rot_matrix(theta):\n",
        "  assert (theta < 1.0) and (theta >= 0.0), \"Theta should be between [0,1] inclusive\"\n",
        "  theta = np.pi * 2 * theta\n",
        "  ct = np.cos(theta)\n",
        "  st = np.sin(theta)\n",
        "  R = np.array([[ct, -st], [st, ct]])\n",
        "  return R"
      ],
      "execution_count": 0,
      "outputs": []
    },
    {
      "cell_type": "markdown",
      "metadata": {
        "id": "dawN1kNZDZVx",
        "colab_type": "text"
      },
      "source": [
        "##Projection matrix used for measurement\n",
        "\n",
        "P = $|0><0| \\otimes I_2$ =\n",
        "$  \\left[\\begin{array}{c|c}\n",
        "    I_2 & 0 \\\\\\hline\n",
        "    0 & 0 \\\\\n",
        "  \\end{array}\\right]$\n"
      ]
    },
    {
      "cell_type": "code",
      "metadata": {
        "id": "B-tTMZJ50SZc",
        "colab_type": "code",
        "colab": {}
      },
      "source": [
        "def get_hadamard_proj_mat():\n",
        "  \n",
        "  zero_bit = get_register(set_bit = 0, m = 1) #0-bit in C^2\n",
        "  I2 = np.eye(2)\n",
        "  P = np.kron(zero_bit @ zero_bit.T, I2)\n",
        "  return P"
      ],
      "execution_count": 0,
      "outputs": []
    },
    {
      "cell_type": "markdown",
      "metadata": {
        "id": "5NHCBYgdXjJr",
        "colab_type": "text"
      },
      "source": [
        "##Applying Hadamard test for each theta value\n",
        "As the unitary matrix here represents rotation by theta within the unit circle, we should be able to see Pr(0) = 0.0 as $\\theta$ approaches $0.5$ as that's the furthest point(x = -1, y = 0) on the circle from x = 1, y = 0.\n"
      ]
    },
    {
      "cell_type": "code",
      "metadata": {
        "id": "1EQaIbddzR0S",
        "colab_type": "code",
        "colab": {}
      },
      "source": [
        "x = np.arange(0.0, 1.0, 0.01)#Theta values\n",
        "y = np.zeros_like(x)#Probabilities\n",
        "psi = get_register(set_bit = 0, m = 1)\n",
        "H = get_hadamard_trans()\n",
        "P = get_hadamard_proj_mat()\n",
        "\n",
        "for i, theta in enumerate(x):\n",
        "  U = get_rot_matrix(theta)\n",
        "  phi = apply_hadamard_test(psi, H, U)\n",
        "  proj = P @ phi\n",
        "  p_0 = proj.T @ proj\n",
        "  y[i] = p_0\n"
      ],
      "execution_count": 0,
      "outputs": []
    },
    {
      "cell_type": "code",
      "metadata": {
        "id": "gY83NeOU3CKg",
        "colab_type": "code",
        "colab": {}
      },
      "source": [
        "import matplotlib.pyplot as plt"
      ],
      "execution_count": 0,
      "outputs": []
    },
    {
      "cell_type": "code",
      "metadata": {
        "id": "e3ByWVhx6Gui",
        "colab_type": "code",
        "outputId": "39b43e0c-ccf4-426d-c4d3-41adf8af1300",
        "colab": {
          "base_uri": "https://localhost:8080/",
          "height": 295
        }
      },
      "source": [
        "plt.plot(x, y)\n",
        "plt.xlabel(\"Theta\")\n",
        "plt.ylabel(\"Probability\")\n",
        "plt.title(\"Pr(0) for state |0> rotated by theta\")\n",
        "plt.show()"
      ],
      "execution_count": 59,
      "outputs": [
        {
          "output_type": "display_data",
          "data": {
            "image/png": "[encoded data removed]",
            "text/plain": [
              "<Figure size 432x288 with 1 Axes>"
            ]
          },
          "metadata": {
            "tags": []
          }
        }
      ]
    },
    {
      "cell_type": "markdown",
      "metadata": {
        "id": "oJ3AZuhToAjp",
        "colab_type": "text"
      },
      "source": [
        "#SWAP test: Q-2 starts here\n",
        "\n",
        "![alt text](https://upload.wikimedia.org/wikipedia/commons/thumb/d/d6/Quantum-swap-test-circuit-correct.png/320px-Quantum-swap-test-circuit-correct.png)\n",
        "\n",
        "For SWAP test the procedure is almost same as Hadamard test except now we have 2 input states and the U matrix is the SWAP matrix which will return a $C^4$ state. SO the controlled operation becomes\n",
        "\n",
        "$|0><0| \\otimes I_4 + |1><1| \\otimes S$.\n",
        "\n",
        "where S = $|00><00| + |01><10| + |10><01| + |11><11|$"
      ]
    },
    {
      "cell_type": "code",
      "metadata": {
        "id": "jhrJ9FKX3M7g",
        "colab_type": "code",
        "colab": {}
      },
      "source": [
        "#Q-2 SWAP Test\n",
        "def get_swap_matrix():\n",
        "  m = 2\n",
        "  dim = 2 ** m\n",
        "  S = np.zeros((dim, dim))\n",
        "  for i in range(m):\n",
        "    q1 = get_register(set_bit = i, m = 1)\n",
        "    for j in range(m):\n",
        "      q2 = get_register(set_bit = j, m = 1)\n",
        "      vec1 = np.kron(q1, q2)\n",
        "      vec2 = np.kron(q2, q1)\n",
        "      S += vec1 @ vec2.T\n",
        "\n",
        "  return S"
      ],
      "execution_count": 0,
      "outputs": []
    },
    {
      "cell_type": "markdown",
      "metadata": {
        "id": "QMaBMQzasGPA",
        "colab_type": "text"
      },
      "source": [
        "####For SWAP test to measure the probability we will use the projection matrix:\n",
        "\n",
        "P = $|0><0| \\otimes I_4$"
      ]
    },
    {
      "cell_type": "code",
      "metadata": {
        "id": "6v6457P5dhLS",
        "colab_type": "code",
        "colab": {}
      },
      "source": [
        "def get_swap_proj_mat():\n",
        "  zero_bit = get_register(set_bit = 0, m = 1) #0-bit in C^2\n",
        "  I4 = np.eye(4)\n",
        "  P = np.kron(zero_bit @ zero_bit.T, I4)\n",
        "  return P"
      ],
      "execution_count": 0,
      "outputs": []
    },
    {
      "cell_type": "markdown",
      "metadata": {
        "id": "i2w7YCb8zclB",
        "colab_type": "text"
      },
      "source": [
        "###The SWAP test compares the similarity between 2 states. Pr(0) will be 1 for most similar states. Here, we have kept 1 state fixed as $\\psi_1$ = $|0>$ and change the other state as $\\psi_2$ = $cos(2\\pi\\theta)|0>$ $+$ $sin(2\\pi\\theta)|1>$ . As we change the value of theta $\\psi_2$ will become weighted average of $|0>$ and $|1>$ states. \n",
        "\n",
        "###We expect to get Pr(0) = 1 when $\\psi_2$ is |0> which will happen when $\\theta =$ 0, or 0.5, 1.0.\n",
        "\n",
        "###We expect to get Pr(0) = 0 when $\\psi_2$ is |1> which will happen when $\\theta =$ 0.25, or 0.75. so the state $\\psi_1$ and $\\psi_2$ will be perpendicular."
      ]
    },
    {
      "cell_type": "code",
      "metadata": {
        "id": "tI37cmh6NFkp",
        "colab_type": "code",
        "colab": {}
      },
      "source": [
        "x = np.arange(0.0, 1.0, 0.01)\n",
        "y = np.zeros_like(x)\n",
        "psi1 = get_register(set_bit = 0, m = 1)\n",
        "zero_bit = get_register(set_bit = 0, m = 1)\n",
        "one_bit = get_register(set_bit = 1, m = 1)\n",
        "H = get_hadamard_trans()\n",
        "P = get_swap_proj_mat()\n",
        "S = get_swap_matrix()\n",
        "\n",
        "for i, theta in enumerate(x):\n",
        "  theta = np.pi * 2 * theta\n",
        "  ct = np.cos(theta)\n",
        "  st = np.sin(theta)\n",
        "  psi2 = ct * zero_bit + st * one_bit\n",
        "  psi = np.kron(psi1, psi2)\n",
        "  phi = apply_hadamard_test(psi, H, S, m = 2)\n",
        "  proj = P @ phi\n",
        "  p_0 = proj.T @ proj\n",
        "  y[i] = p_0\n"
      ],
      "execution_count": 0,
      "outputs": []
    },
    {
      "cell_type": "code",
      "metadata": {
        "id": "KrtucTjzNGut",
        "colab_type": "code",
        "outputId": "fe0d554d-00cf-488a-ae0b-e1b337e38c65",
        "colab": {
          "base_uri": "https://localhost:8080/",
          "height": 279
        }
      },
      "source": [
        "plt.plot(x, y)\n",
        "plt.xlabel(\"Theta\")\n",
        "plt.ylabel(\"Probability\")\n",
        "plt.show()"
      ],
      "execution_count": 63,
      "outputs": [
        {
          "output_type": "display_data",
          "data": {
            "image/png": "[encoded data removed]",
            "text/plain": [
              "<Figure size 432x288 with 1 Axes>"
            ]
          },
          "metadata": {
            "tags": []
          }
        }
      ]
    },
    {
      "cell_type": "code",
      "metadata": {
        "id": "xGfVGrhMkWWY",
        "colab_type": "code",
        "colab": {}
      },
      "source": [
        ""
      ],
      "execution_count": 0,
      "outputs": []
    }
  ]
}