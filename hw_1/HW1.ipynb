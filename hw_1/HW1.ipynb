{
  "nbformat": 4,
  "nbformat_minor": 0,
  "metadata": {
    "colab": {
      "name": "Copy of HW1.ipynb",
      "provenance": [],
      "collapsed_sections": [],
      "include_colab_link": true
    },
    "kernelspec": {
      "name": "python3",
      "display_name": "Python 3"
    }
  },
  "cells": [
    {
      "cell_type": "markdown",
      "metadata": {
        "id": "view-in-github",
        "colab_type": "text"
      },
      "source": [
        "<a href=\"https://colab.research.google.com/github/sharvil10/COT5600_quantum_computing/blob/master/hw_1/HW1.ipynb\" target=\"_parent\"><img src=\"https://colab.research.google.com/assets/colab-badge.svg\" alt=\"Open In Colab\"/></a>"
      ]
    },
    {
      "cell_type": "code",
      "metadata": {
        "id": "J0-7QgY4Denc",
        "colab_type": "code",
        "colab": {}
      },
      "source": [
        "import numpy as np\n",
        "from scipy.linalg import null_space\n",
        "import numpy.random as npr"
      ],
      "execution_count": 0,
      "outputs": []
    },
    {
      "cell_type": "markdown",
      "metadata": {
        "id": "Piq0J64UKguB",
        "colab_type": "text"
      },
      "source": [
        "Test if the current degree annhilates the polynomial"
      ]
    },
    {
      "cell_type": "code",
      "metadata": {
        "id": "aW2T2uMxWmpl",
        "colab_type": "code",
        "colab": {}
      },
      "source": [
        "def test_annh(M, coeffs):\n",
        "  if coeffs.size == 0:\n",
        "    return\n",
        "  mult = np.eye(M.shape[0])\n",
        "  sum = 0\n",
        "  for i in range(len(coeffs)):\n",
        "    sum += coeffs[i, 0] * mult\n",
        "    mult = np.matmul(M, mult)\n",
        "  return np.allclose(sum, 0)"
      ],
      "execution_count": 0,
      "outputs": []
    },
    {
      "cell_type": "markdown",
      "metadata": {
        "id": "VqyU15uJKwNu",
        "colab_type": "text"
      },
      "source": [
        "Find the minimum annhilating polynomial by checking if the current degree polynomial annhilates. We iterate this process until n+1 degree which must annhilate the polynomial."
      ]
    },
    {
      "cell_type": "code",
      "metadata": {
        "id": "cPbNWQDyDkh1",
        "colab_type": "code",
        "colab": {}
      },
      "source": [
        "def annihilate_min_deg_poly(M):\n",
        "  n = M.shape[0]\n",
        "  A = np.empty((n*n, 1))\n",
        "  A[:, 0] = np.eye(n).ravel()\n",
        "  M_curr = np.eye(n)\n",
        "  for i in range(1, n+1):\n",
        "    M_curr = np.matmul(M_curr, M)\n",
        "    A = np.hstack((A, np.ravel(M_curr)[:, None]))\n",
        "    coeffs = null_space(A)\n",
        "    if test_annh(M, coeffs):\n",
        "      return coeffs"
      ],
      "execution_count": 0,
      "outputs": []
    },
    {
      "cell_type": "markdown",
      "metadata": {
        "id": "OyhOca1vLJ17",
        "colab_type": "text"
      },
      "source": [
        "###Test Case 1:\n",
        "If $X = \\begin{bmatrix} 0 & 1 & 0 \\\\ 1 & 0 & 0 \\\\ 0 & 0 & 1 \\end{bmatrix}, X^2 = \\begin{bmatrix} 1 & 0 & 0 \\\\ 0 & 1 & 0 \\\\ 0 & 0 & 1 \\end{bmatrix}$\n",
        "\n",
        "$\\therefore I -X^2 = 0$ where I is the identity matrix \\\\\n",
        "Which means if give X as the input the minimum degree of the polynomial should be 2 and the X should have a 0 coefficient.\\\\\n",
        "\n",
        "$a_0 I+ a_1 X + a_2 X^2$ where $a_0 = -a_2$ and $a_1 = 0$\n"
      ]
    },
    {
      "cell_type": "code",
      "metadata": {
        "id": "az-FF3CKMy4m",
        "colab_type": "code",
        "outputId": "63907f46-0df2-4962-e49f-c5053f269ce0",
        "colab": {
          "base_uri": "https://localhost:8080/",
          "height": 102
        }
      },
      "source": [
        "Ex = np.array([[0,1,0], [1,0,0], [0,0,1]])\n",
        "coeffs = annihilate_min_deg_poly(Ex)\n",
        "print('Degree of minimal polynomial is {}'.format(len(coeffs) - 1))\n",
        "print('Coeffs:')\n",
        "for i in range(len(coeffs)):\n",
        "  print('a_%d is %f'%(i,coeffs[i]))"
      ],
      "execution_count": 0,
      "outputs": [
        {
          "output_type": "stream",
          "text": [
            "Degree of minimal polynomial is 2\n",
            "Coeffs:\n",
            "a_0 is 0.707107\n",
            "a_1 is -0.000000\n",
            "a_2 is -0.707107\n"
          ],
          "name": "stdout"
        }
      ]
    },
    {
      "cell_type": "code",
      "metadata": {
        "id": "S3UUCDbMU9vs",
        "colab_type": "code",
        "outputId": "8e944b9d-5118-4743-e87e-4495fc89c864",
        "colab": {
          "base_uri": "https://localhost:8080/",
          "height": 102
        }
      },
      "source": [
        "Ex = np.array([[3,0,0], [0,3,0], [0,0,2]])\n",
        "coeffs = annihilate_min_deg_poly(Ex)\n",
        "print('Degree of minimal polynomial is {}'.format(len(coeffs) - 1))\n",
        "print('Coeffs:')\n",
        "for i in range(len(coeffs)):\n",
        "  print('a_%d is %f'%(i,coeffs[i]))"
      ],
      "execution_count": 0,
      "outputs": [
        {
          "output_type": "stream",
          "text": [
            "Degree of minimal polynomial is 2\n",
            "Coeffs:\n",
            "a_0 is -0.762001\n",
            "a_1 is 0.635001\n",
            "a_2 is -0.127000\n"
          ],
          "name": "stdout"
        }
      ]
    },
    {
      "cell_type": "code",
      "metadata": {
        "id": "c6tAnxfDvj6N",
        "colab_type": "code",
        "colab": {}
      },
      "source": [
        ""
      ],
      "execution_count": 0,
      "outputs": []
    }
  ]
}